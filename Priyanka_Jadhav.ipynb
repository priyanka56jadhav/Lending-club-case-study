{
 "cells": [
  {
   "cell_type": "markdown",
   "id": "d05ffba7",
   "metadata": {},
   "source": [
    "# Lending Club Case Study"
   ]
  },
  {
   "cell_type": "markdown",
   "id": "2983fe30",
   "metadata": {},
   "source": [
    "### Key Question\n",
    "\n",
    "Decipher which types of customers default on a loan."
   ]
  },
  {
   "cell_type": "markdown",
   "id": "ed6812c9",
   "metadata": {},
   "source": [
    "Lending Club is a consumer finance company which specialises in lending various types of loans to urban customers.\n",
    "When the company receives a loan application, the company has to make a decision for loan approval based on the applicant’s profile.\n",
    "\n",
    "This company is the largest online loan marketplace, facilitating personal loans, business loans, and financing of medical procedures. Borrowers can easily access lower interest rate loans through a fast online interface. \n",
    "\n",
    "Like most other lending companies, lending loans to ‘risky’ applicants is the largest source of financial loss (called credit loss)."
   ]
  },
  {
   "cell_type": "markdown",
   "id": "010889ae",
   "metadata": {},
   "source": [
    "The aim is to identify patterns which indicate if a person is likely to default, which may be used for taking actions such as denying the loan, reducing the amount of loan, lending (to risky applicants) at a higher interest rate, etc."
   ]
  },
  {
   "cell_type": "markdown",
   "id": "1c0bcfdd",
   "metadata": {},
   "source": [
    "The Analysis is divided into four main parts\n",
    "1. Data Understanding\n",
    "2. Data cleaning and Manipulation\n",
    "3. Data Analysis\n",
    "4. Recommendations"
   ]
  },
  {
   "cell_type": "markdown",
   "id": "201d7eb9",
   "metadata": {},
   "source": [
    "The data given below contains information about past loan applicants and whether they ‘defaulted’ or not. The aim is to identify patterns which indicate if a person is likely to default, which may be used for taking actions such as denying the loan, reducing the amount of loan, lending (to risky applicants) at a higher interest rate, etc. \n",
    "\n",
    "Let's see the data for further Analysis."
   ]
  },
  {
   "cell_type": "markdown",
   "id": "ba6ea5ee",
   "metadata": {},
   "source": [
    "## Import the relevant libraries"
   ]
  },
  {
   "cell_type": "code",
   "execution_count": 1,
   "id": "a809336e",
   "metadata": {},
   "outputs": [],
   "source": [
    "import numpy as np\n",
    "import pandas as pd\n",
    "\n",
    "#visualization Libraries\n",
    "import matplotlib.pyplot as plt\n",
    "import seaborn as sns"
   ]
  },
  {
   "cell_type": "markdown",
   "id": "e529665e",
   "metadata": {},
   "source": [
    "## Load the data files"
   ]
  },
  {
   "cell_type": "code",
   "execution_count": 2,
   "id": "e2d4066b",
   "metadata": {},
   "outputs": [
    {
     "name": "stderr",
     "output_type": "stream",
     "text": [
      "C:\\Users\\HP\\AppData\\Local\\Temp\\ipykernel_115208\\585952266.py:1: DtypeWarning: Columns (47) have mixed types. Specify dtype option on import or set low_memory=False.\n",
      "  lend_df = pd.read_csv('loan.csv')\n"
     ]
    }
   ],
   "source": [
    "lend_df = pd.read_csv('loan.csv')"
   ]
  },
  {
   "cell_type": "markdown",
   "id": "b3c60191",
   "metadata": {},
   "source": [
    "## Data Understanding"
   ]
  },
  {
   "cell_type": "code",
   "execution_count": 3,
   "id": "6195f0ae",
   "metadata": {},
   "outputs": [
    {
     "data": {
      "text/html": [
       "<div>\n",
       "<style scoped>\n",
       "    .dataframe tbody tr th:only-of-type {\n",
       "        vertical-align: middle;\n",
       "    }\n",
       "\n",
       "    .dataframe tbody tr th {\n",
       "        vertical-align: top;\n",
       "    }\n",
       "\n",
       "    .dataframe thead th {\n",
       "        text-align: right;\n",
       "    }\n",
       "</style>\n",
       "<table border=\"1\" class=\"dataframe\">\n",
       "  <thead>\n",
       "    <tr style=\"text-align: right;\">\n",
       "      <th></th>\n",
       "      <th>id</th>\n",
       "      <th>member_id</th>\n",
       "      <th>loan_amnt</th>\n",
       "      <th>funded_amnt</th>\n",
       "      <th>funded_amnt_inv</th>\n",
       "      <th>term</th>\n",
       "      <th>int_rate</th>\n",
       "      <th>installment</th>\n",
       "      <th>grade</th>\n",
       "      <th>sub_grade</th>\n",
       "      <th>...</th>\n",
       "      <th>num_tl_90g_dpd_24m</th>\n",
       "      <th>num_tl_op_past_12m</th>\n",
       "      <th>pct_tl_nvr_dlq</th>\n",
       "      <th>percent_bc_gt_75</th>\n",
       "      <th>pub_rec_bankruptcies</th>\n",
       "      <th>tax_liens</th>\n",
       "      <th>tot_hi_cred_lim</th>\n",
       "      <th>total_bal_ex_mort</th>\n",
       "      <th>total_bc_limit</th>\n",
       "      <th>total_il_high_credit_limit</th>\n",
       "    </tr>\n",
       "  </thead>\n",
       "  <tbody>\n",
       "    <tr>\n",
       "      <th>0</th>\n",
       "      <td>1077501</td>\n",
       "      <td>1296599</td>\n",
       "      <td>5000</td>\n",
       "      <td>5000</td>\n",
       "      <td>4975.0</td>\n",
       "      <td>36 months</td>\n",
       "      <td>10.65%</td>\n",
       "      <td>162.87</td>\n",
       "      <td>B</td>\n",
       "      <td>B2</td>\n",
       "      <td>...</td>\n",
       "      <td>NaN</td>\n",
       "      <td>NaN</td>\n",
       "      <td>NaN</td>\n",
       "      <td>NaN</td>\n",
       "      <td>0.0</td>\n",
       "      <td>0.0</td>\n",
       "      <td>NaN</td>\n",
       "      <td>NaN</td>\n",
       "      <td>NaN</td>\n",
       "      <td>NaN</td>\n",
       "    </tr>\n",
       "    <tr>\n",
       "      <th>1</th>\n",
       "      <td>1077430</td>\n",
       "      <td>1314167</td>\n",
       "      <td>2500</td>\n",
       "      <td>2500</td>\n",
       "      <td>2500.0</td>\n",
       "      <td>60 months</td>\n",
       "      <td>15.27%</td>\n",
       "      <td>59.83</td>\n",
       "      <td>C</td>\n",
       "      <td>C4</td>\n",
       "      <td>...</td>\n",
       "      <td>NaN</td>\n",
       "      <td>NaN</td>\n",
       "      <td>NaN</td>\n",
       "      <td>NaN</td>\n",
       "      <td>0.0</td>\n",
       "      <td>0.0</td>\n",
       "      <td>NaN</td>\n",
       "      <td>NaN</td>\n",
       "      <td>NaN</td>\n",
       "      <td>NaN</td>\n",
       "    </tr>\n",
       "    <tr>\n",
       "      <th>2</th>\n",
       "      <td>1077175</td>\n",
       "      <td>1313524</td>\n",
       "      <td>2400</td>\n",
       "      <td>2400</td>\n",
       "      <td>2400.0</td>\n",
       "      <td>36 months</td>\n",
       "      <td>15.96%</td>\n",
       "      <td>84.33</td>\n",
       "      <td>C</td>\n",
       "      <td>C5</td>\n",
       "      <td>...</td>\n",
       "      <td>NaN</td>\n",
       "      <td>NaN</td>\n",
       "      <td>NaN</td>\n",
       "      <td>NaN</td>\n",
       "      <td>0.0</td>\n",
       "      <td>0.0</td>\n",
       "      <td>NaN</td>\n",
       "      <td>NaN</td>\n",
       "      <td>NaN</td>\n",
       "      <td>NaN</td>\n",
       "    </tr>\n",
       "    <tr>\n",
       "      <th>3</th>\n",
       "      <td>1076863</td>\n",
       "      <td>1277178</td>\n",
       "      <td>10000</td>\n",
       "      <td>10000</td>\n",
       "      <td>10000.0</td>\n",
       "      <td>36 months</td>\n",
       "      <td>13.49%</td>\n",
       "      <td>339.31</td>\n",
       "      <td>C</td>\n",
       "      <td>C1</td>\n",
       "      <td>...</td>\n",
       "      <td>NaN</td>\n",
       "      <td>NaN</td>\n",
       "      <td>NaN</td>\n",
       "      <td>NaN</td>\n",
       "      <td>0.0</td>\n",
       "      <td>0.0</td>\n",
       "      <td>NaN</td>\n",
       "      <td>NaN</td>\n",
       "      <td>NaN</td>\n",
       "      <td>NaN</td>\n",
       "    </tr>\n",
       "    <tr>\n",
       "      <th>4</th>\n",
       "      <td>1075358</td>\n",
       "      <td>1311748</td>\n",
       "      <td>3000</td>\n",
       "      <td>3000</td>\n",
       "      <td>3000.0</td>\n",
       "      <td>60 months</td>\n",
       "      <td>12.69%</td>\n",
       "      <td>67.79</td>\n",
       "      <td>B</td>\n",
       "      <td>B5</td>\n",
       "      <td>...</td>\n",
       "      <td>NaN</td>\n",
       "      <td>NaN</td>\n",
       "      <td>NaN</td>\n",
       "      <td>NaN</td>\n",
       "      <td>0.0</td>\n",
       "      <td>0.0</td>\n",
       "      <td>NaN</td>\n",
       "      <td>NaN</td>\n",
       "      <td>NaN</td>\n",
       "      <td>NaN</td>\n",
       "    </tr>\n",
       "  </tbody>\n",
       "</table>\n",
       "<p>5 rows × 111 columns</p>\n",
       "</div>"
      ],
      "text/plain": [
       "        id  member_id  loan_amnt  funded_amnt  funded_amnt_inv        term  \\\n",
       "0  1077501    1296599       5000         5000           4975.0   36 months   \n",
       "1  1077430    1314167       2500         2500           2500.0   60 months   \n",
       "2  1077175    1313524       2400         2400           2400.0   36 months   \n",
       "3  1076863    1277178      10000        10000          10000.0   36 months   \n",
       "4  1075358    1311748       3000         3000           3000.0   60 months   \n",
       "\n",
       "  int_rate  installment grade sub_grade  ... num_tl_90g_dpd_24m  \\\n",
       "0   10.65%       162.87     B        B2  ...                NaN   \n",
       "1   15.27%        59.83     C        C4  ...                NaN   \n",
       "2   15.96%        84.33     C        C5  ...                NaN   \n",
       "3   13.49%       339.31     C        C1  ...                NaN   \n",
       "4   12.69%        67.79     B        B5  ...                NaN   \n",
       "\n",
       "  num_tl_op_past_12m pct_tl_nvr_dlq  percent_bc_gt_75 pub_rec_bankruptcies  \\\n",
       "0                NaN            NaN               NaN                  0.0   \n",
       "1                NaN            NaN               NaN                  0.0   \n",
       "2                NaN            NaN               NaN                  0.0   \n",
       "3                NaN            NaN               NaN                  0.0   \n",
       "4                NaN            NaN               NaN                  0.0   \n",
       "\n",
       "  tax_liens tot_hi_cred_lim total_bal_ex_mort total_bc_limit  \\\n",
       "0       0.0             NaN               NaN            NaN   \n",
       "1       0.0             NaN               NaN            NaN   \n",
       "2       0.0             NaN               NaN            NaN   \n",
       "3       0.0             NaN               NaN            NaN   \n",
       "4       0.0             NaN               NaN            NaN   \n",
       "\n",
       "  total_il_high_credit_limit  \n",
       "0                        NaN  \n",
       "1                        NaN  \n",
       "2                        NaN  \n",
       "3                        NaN  \n",
       "4                        NaN  \n",
       "\n",
       "[5 rows x 111 columns]"
      ]
     },
     "execution_count": 3,
     "metadata": {},
     "output_type": "execute_result"
    }
   ],
   "source": [
    "# view some top records\n",
    "lend_df.head()"
   ]
  },
  {
   "cell_type": "code",
   "execution_count": 4,
   "id": "d98529da",
   "metadata": {},
   "outputs": [
    {
     "data": {
      "text/html": [
       "<div>\n",
       "<style scoped>\n",
       "    .dataframe tbody tr th:only-of-type {\n",
       "        vertical-align: middle;\n",
       "    }\n",
       "\n",
       "    .dataframe tbody tr th {\n",
       "        vertical-align: top;\n",
       "    }\n",
       "\n",
       "    .dataframe thead th {\n",
       "        text-align: right;\n",
       "    }\n",
       "</style>\n",
       "<table border=\"1\" class=\"dataframe\">\n",
       "  <thead>\n",
       "    <tr style=\"text-align: right;\">\n",
       "      <th></th>\n",
       "      <th>id</th>\n",
       "      <th>member_id</th>\n",
       "      <th>loan_amnt</th>\n",
       "      <th>funded_amnt</th>\n",
       "      <th>funded_amnt_inv</th>\n",
       "      <th>term</th>\n",
       "      <th>int_rate</th>\n",
       "      <th>installment</th>\n",
       "      <th>grade</th>\n",
       "      <th>sub_grade</th>\n",
       "      <th>...</th>\n",
       "      <th>num_tl_90g_dpd_24m</th>\n",
       "      <th>num_tl_op_past_12m</th>\n",
       "      <th>pct_tl_nvr_dlq</th>\n",
       "      <th>percent_bc_gt_75</th>\n",
       "      <th>pub_rec_bankruptcies</th>\n",
       "      <th>tax_liens</th>\n",
       "      <th>tot_hi_cred_lim</th>\n",
       "      <th>total_bal_ex_mort</th>\n",
       "      <th>total_bc_limit</th>\n",
       "      <th>total_il_high_credit_limit</th>\n",
       "    </tr>\n",
       "  </thead>\n",
       "  <tbody>\n",
       "    <tr>\n",
       "      <th>39712</th>\n",
       "      <td>92187</td>\n",
       "      <td>92174</td>\n",
       "      <td>2500</td>\n",
       "      <td>2500</td>\n",
       "      <td>1075.0</td>\n",
       "      <td>36 months</td>\n",
       "      <td>8.07%</td>\n",
       "      <td>78.42</td>\n",
       "      <td>A</td>\n",
       "      <td>A4</td>\n",
       "      <td>...</td>\n",
       "      <td>NaN</td>\n",
       "      <td>NaN</td>\n",
       "      <td>NaN</td>\n",
       "      <td>NaN</td>\n",
       "      <td>NaN</td>\n",
       "      <td>NaN</td>\n",
       "      <td>NaN</td>\n",
       "      <td>NaN</td>\n",
       "      <td>NaN</td>\n",
       "      <td>NaN</td>\n",
       "    </tr>\n",
       "    <tr>\n",
       "      <th>39713</th>\n",
       "      <td>90665</td>\n",
       "      <td>90607</td>\n",
       "      <td>8500</td>\n",
       "      <td>8500</td>\n",
       "      <td>875.0</td>\n",
       "      <td>36 months</td>\n",
       "      <td>10.28%</td>\n",
       "      <td>275.38</td>\n",
       "      <td>C</td>\n",
       "      <td>C1</td>\n",
       "      <td>...</td>\n",
       "      <td>NaN</td>\n",
       "      <td>NaN</td>\n",
       "      <td>NaN</td>\n",
       "      <td>NaN</td>\n",
       "      <td>NaN</td>\n",
       "      <td>NaN</td>\n",
       "      <td>NaN</td>\n",
       "      <td>NaN</td>\n",
       "      <td>NaN</td>\n",
       "      <td>NaN</td>\n",
       "    </tr>\n",
       "    <tr>\n",
       "      <th>39714</th>\n",
       "      <td>90395</td>\n",
       "      <td>90390</td>\n",
       "      <td>5000</td>\n",
       "      <td>5000</td>\n",
       "      <td>1325.0</td>\n",
       "      <td>36 months</td>\n",
       "      <td>8.07%</td>\n",
       "      <td>156.84</td>\n",
       "      <td>A</td>\n",
       "      <td>A4</td>\n",
       "      <td>...</td>\n",
       "      <td>NaN</td>\n",
       "      <td>NaN</td>\n",
       "      <td>NaN</td>\n",
       "      <td>NaN</td>\n",
       "      <td>NaN</td>\n",
       "      <td>NaN</td>\n",
       "      <td>NaN</td>\n",
       "      <td>NaN</td>\n",
       "      <td>NaN</td>\n",
       "      <td>NaN</td>\n",
       "    </tr>\n",
       "    <tr>\n",
       "      <th>39715</th>\n",
       "      <td>90376</td>\n",
       "      <td>89243</td>\n",
       "      <td>5000</td>\n",
       "      <td>5000</td>\n",
       "      <td>650.0</td>\n",
       "      <td>36 months</td>\n",
       "      <td>7.43%</td>\n",
       "      <td>155.38</td>\n",
       "      <td>A</td>\n",
       "      <td>A2</td>\n",
       "      <td>...</td>\n",
       "      <td>NaN</td>\n",
       "      <td>NaN</td>\n",
       "      <td>NaN</td>\n",
       "      <td>NaN</td>\n",
       "      <td>NaN</td>\n",
       "      <td>NaN</td>\n",
       "      <td>NaN</td>\n",
       "      <td>NaN</td>\n",
       "      <td>NaN</td>\n",
       "      <td>NaN</td>\n",
       "    </tr>\n",
       "    <tr>\n",
       "      <th>39716</th>\n",
       "      <td>87023</td>\n",
       "      <td>86999</td>\n",
       "      <td>7500</td>\n",
       "      <td>7500</td>\n",
       "      <td>800.0</td>\n",
       "      <td>36 months</td>\n",
       "      <td>13.75%</td>\n",
       "      <td>255.43</td>\n",
       "      <td>E</td>\n",
       "      <td>E2</td>\n",
       "      <td>...</td>\n",
       "      <td>NaN</td>\n",
       "      <td>NaN</td>\n",
       "      <td>NaN</td>\n",
       "      <td>NaN</td>\n",
       "      <td>NaN</td>\n",
       "      <td>NaN</td>\n",
       "      <td>NaN</td>\n",
       "      <td>NaN</td>\n",
       "      <td>NaN</td>\n",
       "      <td>NaN</td>\n",
       "    </tr>\n",
       "  </tbody>\n",
       "</table>\n",
       "<p>5 rows × 111 columns</p>\n",
       "</div>"
      ],
      "text/plain": [
       "          id  member_id  loan_amnt  funded_amnt  funded_amnt_inv        term  \\\n",
       "39712  92187      92174       2500         2500           1075.0   36 months   \n",
       "39713  90665      90607       8500         8500            875.0   36 months   \n",
       "39714  90395      90390       5000         5000           1325.0   36 months   \n",
       "39715  90376      89243       5000         5000            650.0   36 months   \n",
       "39716  87023      86999       7500         7500            800.0   36 months   \n",
       "\n",
       "      int_rate  installment grade sub_grade  ... num_tl_90g_dpd_24m  \\\n",
       "39712    8.07%        78.42     A        A4  ...                NaN   \n",
       "39713   10.28%       275.38     C        C1  ...                NaN   \n",
       "39714    8.07%       156.84     A        A4  ...                NaN   \n",
       "39715    7.43%       155.38     A        A2  ...                NaN   \n",
       "39716   13.75%       255.43     E        E2  ...                NaN   \n",
       "\n",
       "      num_tl_op_past_12m pct_tl_nvr_dlq  percent_bc_gt_75  \\\n",
       "39712                NaN            NaN               NaN   \n",
       "39713                NaN            NaN               NaN   \n",
       "39714                NaN            NaN               NaN   \n",
       "39715                NaN            NaN               NaN   \n",
       "39716                NaN            NaN               NaN   \n",
       "\n",
       "      pub_rec_bankruptcies tax_liens tot_hi_cred_lim total_bal_ex_mort  \\\n",
       "39712                  NaN       NaN             NaN               NaN   \n",
       "39713                  NaN       NaN             NaN               NaN   \n",
       "39714                  NaN       NaN             NaN               NaN   \n",
       "39715                  NaN       NaN             NaN               NaN   \n",
       "39716                  NaN       NaN             NaN               NaN   \n",
       "\n",
       "      total_bc_limit total_il_high_credit_limit  \n",
       "39712            NaN                        NaN  \n",
       "39713            NaN                        NaN  \n",
       "39714            NaN                        NaN  \n",
       "39715            NaN                        NaN  \n",
       "39716            NaN                        NaN  \n",
       "\n",
       "[5 rows x 111 columns]"
      ]
     },
     "execution_count": 4,
     "metadata": {},
     "output_type": "execute_result"
    }
   ],
   "source": [
    "# view some bottom records\n",
    "lend_df.tail()"
   ]
  },
  {
   "cell_type": "code",
   "execution_count": 5,
   "id": "f048b32a",
   "metadata": {},
   "outputs": [
    {
     "name": "stdout",
     "output_type": "stream",
     "text": [
      "<class 'pandas.core.frame.DataFrame'>\n",
      "RangeIndex: 39717 entries, 0 to 39716\n",
      "Columns: 111 entries, id to total_il_high_credit_limit\n",
      "dtypes: float64(74), int64(13), object(24)\n",
      "memory usage: 33.6+ MB\n"
     ]
    }
   ],
   "source": [
    "#checking datatypes of variables and total number of records\n",
    "lend_df.info()"
   ]
  },
  {
   "cell_type": "code",
   "execution_count": 6,
   "id": "fe7f63e4",
   "metadata": {},
   "outputs": [
    {
     "data": {
      "text/plain": [
       "Index(['id', 'member_id', 'loan_amnt', 'funded_amnt', 'funded_amnt_inv',\n",
       "       'term', 'int_rate', 'installment', 'grade', 'sub_grade',\n",
       "       ...\n",
       "       'num_tl_90g_dpd_24m', 'num_tl_op_past_12m', 'pct_tl_nvr_dlq',\n",
       "       'percent_bc_gt_75', 'pub_rec_bankruptcies', 'tax_liens',\n",
       "       'tot_hi_cred_lim', 'total_bal_ex_mort', 'total_bc_limit',\n",
       "       'total_il_high_credit_limit'],\n",
       "      dtype='object', length=111)"
      ]
     },
     "execution_count": 6,
     "metadata": {},
     "output_type": "execute_result"
    }
   ],
   "source": [
    "# Checking all the columns available\n",
    "lend_df.columns"
   ]
  },
  {
   "cell_type": "code",
   "execution_count": 7,
   "id": "8c11e381",
   "metadata": {},
   "outputs": [
    {
     "data": {
      "text/plain": [
       "array(['Fully Paid', 'Charged Off', 'Current'], dtype=object)"
      ]
     },
     "execution_count": 7,
     "metadata": {},
     "output_type": "execute_result"
    }
   ],
   "source": [
    "# Checking unique values of loan_status (Target vaiable) column\n",
    "lend_df.loan_status.unique()"
   ]
  },
  {
   "cell_type": "markdown",
   "id": "fc5d9603",
   "metadata": {},
   "source": [
    "Following are some columns which are important:\n",
    "\n",
    "- loan_status: shows the status of borrower's loan - whether its Fully Paid, 'Charged Off' or 'Current'.\n",
    "This is our **target Variable**.\n",
    "Here we want to see how other variables/ factors affects on the status of this column. So that in future Lending Club can be prepared in advance to judge a borrower.\n",
    "\n",
    "\n",
    "- loan_amnt: Amount applied by the potential borrowers\n",
    "\n",
    "- funded_amnt: Amount recommended/approved by Lending Club\n",
    "\n",
    "- funded_amnt_inv: Amount funded by investors\n",
    "\n",
    "- term: The number of payments on the loan (values are mentioned in months)    "
   ]
  },
  {
   "cell_type": "markdown",
   "id": "6e56085b",
   "metadata": {},
   "source": [
    "## Data Cleaning"
   ]
  },
  {
   "cell_type": "code",
   "execution_count": 8,
   "id": "4abdf2ba",
   "metadata": {},
   "outputs": [
    {
     "data": {
      "text/plain": [
       "0"
      ]
     },
     "execution_count": 8,
     "metadata": {},
     "output_type": "execute_result"
    }
   ],
   "source": [
    "# Looking for duplicate values\n",
    "lend_df.duplicated().sum()"
   ]
  },
  {
   "cell_type": "code",
   "execution_count": 9,
   "id": "86273d99",
   "metadata": {},
   "outputs": [
    {
     "data": {
      "text/plain": [
       "id                                0\n",
       "member_id                         0\n",
       "loan_amnt                         0\n",
       "funded_amnt                       0\n",
       "funded_amnt_inv                   0\n",
       "                              ...  \n",
       "tax_liens                        39\n",
       "tot_hi_cred_lim               39717\n",
       "total_bal_ex_mort             39717\n",
       "total_bc_limit                39717\n",
       "total_il_high_credit_limit    39717\n",
       "Length: 111, dtype: int64"
      ]
     },
     "execution_count": 9,
     "metadata": {},
     "output_type": "execute_result"
    }
   ],
   "source": [
    "# Looking for missing values\n",
    "lend_df.isnull().sum()"
   ]
  },
  {
   "cell_type": "markdown",
   "id": "514e956a",
   "metadata": {},
   "source": [
    "Here we can see many columns are having missing values in large numbers. Let's check the percentage of it."
   ]
  },
  {
   "cell_type": "code",
   "execution_count": 10,
   "id": "2f6e382f",
   "metadata": {},
   "outputs": [
    {
     "data": {
      "text/plain": [
       "id                              0.0\n",
       "member_id                       0.0\n",
       "loan_amnt                       0.0\n",
       "funded_amnt                     0.0\n",
       "funded_amnt_inv                 0.0\n",
       "                              ...  \n",
       "tax_liens                       0.1\n",
       "tot_hi_cred_lim               100.0\n",
       "total_bal_ex_mort             100.0\n",
       "total_bc_limit                100.0\n",
       "total_il_high_credit_limit    100.0\n",
       "Length: 111, dtype: float64"
      ]
     },
     "execution_count": 10,
     "metadata": {},
     "output_type": "execute_result"
    }
   ],
   "source": [
    "# missing values percentages of individual columns\n",
    "round((lend_df.isnull().sum()/len(lend_df.index))*100, 2)"
   ]
  },
  {
   "cell_type": "markdown",
   "id": "23a13f11",
   "metadata": {},
   "source": [
    "We can see that many columns are having 100% missing values. Lets see how many columns are there with 100% missing values"
   ]
  },
  {
   "cell_type": "code",
   "execution_count": 11,
   "id": "dc73b55a",
   "metadata": {},
   "outputs": [
    {
     "name": "stdout",
     "output_type": "stream",
     "text": [
      "Index(['mths_since_last_major_derog', 'annual_inc_joint', 'dti_joint',\n",
      "       'verification_status_joint', 'tot_coll_amt', 'tot_cur_bal',\n",
      "       'open_acc_6m', 'open_il_6m', 'open_il_12m', 'open_il_24m',\n",
      "       'mths_since_rcnt_il', 'total_bal_il', 'il_util', 'open_rv_12m',\n",
      "       'open_rv_24m', 'max_bal_bc', 'all_util', 'total_rev_hi_lim', 'inq_fi',\n",
      "       'total_cu_tl', 'inq_last_12m', 'acc_open_past_24mths', 'avg_cur_bal',\n",
      "       'bc_open_to_buy', 'bc_util', 'mo_sin_old_il_acct',\n",
      "       'mo_sin_old_rev_tl_op', 'mo_sin_rcnt_rev_tl_op', 'mo_sin_rcnt_tl',\n",
      "       'mort_acc', 'mths_since_recent_bc', 'mths_since_recent_bc_dlq',\n",
      "       'mths_since_recent_inq', 'mths_since_recent_revol_delinq',\n",
      "       'num_accts_ever_120_pd', 'num_actv_bc_tl', 'num_actv_rev_tl',\n",
      "       'num_bc_sats', 'num_bc_tl', 'num_il_tl', 'num_op_rev_tl',\n",
      "       'num_rev_accts', 'num_rev_tl_bal_gt_0', 'num_sats', 'num_tl_120dpd_2m',\n",
      "       'num_tl_30dpd', 'num_tl_90g_dpd_24m', 'num_tl_op_past_12m',\n",
      "       'pct_tl_nvr_dlq', 'percent_bc_gt_75', 'tot_hi_cred_lim',\n",
      "       'total_bal_ex_mort', 'total_bc_limit', 'total_il_high_credit_limit'],\n",
      "      dtype='object')\n",
      "\n",
      " \n",
      " Total number of columns with 100% missing values = 54\n"
     ]
    }
   ],
   "source": [
    "# checking number of columns and their names having 100% missing values\n",
    "missing_value_col_100 = lend_df.columns[(lend_df.isnull().sum()/len(lend_df.index))*100 == 100]\n",
    "\n",
    "print(missing_value_col_100)\n",
    "\n",
    "print(\"\\n \\n Total number of columns with 100% missing values =\", len(missing_value_col_100))"
   ]
  },
  {
   "cell_type": "markdown",
   "id": "1ba11501",
   "metadata": {},
   "source": [
    "Columns with 100% missing values will not be useful for us that is why its better to drop them. "
   ]
  },
  {
   "cell_type": "code",
   "execution_count": 12,
   "id": "e7e1e96b",
   "metadata": {},
   "outputs": [],
   "source": [
    "#Dropping columns\n",
    "lend_df = lend_df.drop(missing_value_col_100, axis=1)"
   ]
  },
  {
   "cell_type": "code",
   "execution_count": 13,
   "id": "0bb2e30b",
   "metadata": {},
   "outputs": [
    {
     "name": "stdout",
     "output_type": "stream",
     "text": [
      "<class 'pandas.core.frame.DataFrame'>\n",
      "RangeIndex: 39717 entries, 0 to 39716\n",
      "Data columns (total 57 columns):\n",
      " #   Column                      Non-Null Count  Dtype  \n",
      "---  ------                      --------------  -----  \n",
      " 0   id                          39717 non-null  int64  \n",
      " 1   member_id                   39717 non-null  int64  \n",
      " 2   loan_amnt                   39717 non-null  int64  \n",
      " 3   funded_amnt                 39717 non-null  int64  \n",
      " 4   funded_amnt_inv             39717 non-null  float64\n",
      " 5   term                        39717 non-null  object \n",
      " 6   int_rate                    39717 non-null  object \n",
      " 7   installment                 39717 non-null  float64\n",
      " 8   grade                       39717 non-null  object \n",
      " 9   sub_grade                   39717 non-null  object \n",
      " 10  emp_title                   37258 non-null  object \n",
      " 11  emp_length                  38642 non-null  object \n",
      " 12  home_ownership              39717 non-null  object \n",
      " 13  annual_inc                  39717 non-null  float64\n",
      " 14  verification_status         39717 non-null  object \n",
      " 15  issue_d                     39717 non-null  object \n",
      " 16  loan_status                 39717 non-null  object \n",
      " 17  pymnt_plan                  39717 non-null  object \n",
      " 18  url                         39717 non-null  object \n",
      " 19  desc                        26777 non-null  object \n",
      " 20  purpose                     39717 non-null  object \n",
      " 21  title                       39706 non-null  object \n",
      " 22  zip_code                    39717 non-null  object \n",
      " 23  addr_state                  39717 non-null  object \n",
      " 24  dti                         39717 non-null  float64\n",
      " 25  delinq_2yrs                 39717 non-null  int64  \n",
      " 26  earliest_cr_line            39717 non-null  object \n",
      " 27  inq_last_6mths              39717 non-null  int64  \n",
      " 28  mths_since_last_delinq      14035 non-null  float64\n",
      " 29  mths_since_last_record      2786 non-null   float64\n",
      " 30  open_acc                    39717 non-null  int64  \n",
      " 31  pub_rec                     39717 non-null  int64  \n",
      " 32  revol_bal                   39717 non-null  int64  \n",
      " 33  revol_util                  39667 non-null  object \n",
      " 34  total_acc                   39717 non-null  int64  \n",
      " 35  initial_list_status         39717 non-null  object \n",
      " 36  out_prncp                   39717 non-null  float64\n",
      " 37  out_prncp_inv               39717 non-null  float64\n",
      " 38  total_pymnt                 39717 non-null  float64\n",
      " 39  total_pymnt_inv             39717 non-null  float64\n",
      " 40  total_rec_prncp             39717 non-null  float64\n",
      " 41  total_rec_int               39717 non-null  float64\n",
      " 42  total_rec_late_fee          39717 non-null  float64\n",
      " 43  recoveries                  39717 non-null  float64\n",
      " 44  collection_recovery_fee     39717 non-null  float64\n",
      " 45  last_pymnt_d                39646 non-null  object \n",
      " 46  last_pymnt_amnt             39717 non-null  float64\n",
      " 47  next_pymnt_d                1140 non-null   object \n",
      " 48  last_credit_pull_d          39715 non-null  object \n",
      " 49  collections_12_mths_ex_med  39661 non-null  float64\n",
      " 50  policy_code                 39717 non-null  int64  \n",
      " 51  application_type            39717 non-null  object \n",
      " 52  acc_now_delinq              39717 non-null  int64  \n",
      " 53  chargeoff_within_12_mths    39661 non-null  float64\n",
      " 54  delinq_amnt                 39717 non-null  int64  \n",
      " 55  pub_rec_bankruptcies        39020 non-null  float64\n",
      " 56  tax_liens                   39678 non-null  float64\n",
      "dtypes: float64(20), int64(13), object(24)\n",
      "memory usage: 17.3+ MB\n"
     ]
    }
   ],
   "source": [
    "# After dropping large number of columns checking remaining columns and their details\n",
    "lend_df.info()"
   ]
  },
  {
   "cell_type": "code",
   "execution_count": 14,
   "id": "4028e596",
   "metadata": {},
   "outputs": [
    {
     "data": {
      "text/plain": [
       "id                             0.00\n",
       "member_id                      0.00\n",
       "loan_amnt                      0.00\n",
       "funded_amnt                    0.00\n",
       "funded_amnt_inv                0.00\n",
       "term                           0.00\n",
       "int_rate                       0.00\n",
       "installment                    0.00\n",
       "grade                          0.00\n",
       "sub_grade                      0.00\n",
       "emp_title                      6.19\n",
       "emp_length                     2.71\n",
       "home_ownership                 0.00\n",
       "annual_inc                     0.00\n",
       "verification_status            0.00\n",
       "issue_d                        0.00\n",
       "loan_status                    0.00\n",
       "pymnt_plan                     0.00\n",
       "url                            0.00\n",
       "desc                          32.58\n",
       "purpose                        0.00\n",
       "title                          0.03\n",
       "zip_code                       0.00\n",
       "addr_state                     0.00\n",
       "dti                            0.00\n",
       "delinq_2yrs                    0.00\n",
       "earliest_cr_line               0.00\n",
       "inq_last_6mths                 0.00\n",
       "mths_since_last_delinq        64.66\n",
       "mths_since_last_record        92.99\n",
       "open_acc                       0.00\n",
       "pub_rec                        0.00\n",
       "revol_bal                      0.00\n",
       "revol_util                     0.13\n",
       "total_acc                      0.00\n",
       "initial_list_status            0.00\n",
       "out_prncp                      0.00\n",
       "out_prncp_inv                  0.00\n",
       "total_pymnt                    0.00\n",
       "total_pymnt_inv                0.00\n",
       "total_rec_prncp                0.00\n",
       "total_rec_int                  0.00\n",
       "total_rec_late_fee             0.00\n",
       "recoveries                     0.00\n",
       "collection_recovery_fee        0.00\n",
       "last_pymnt_d                   0.18\n",
       "last_pymnt_amnt                0.00\n",
       "next_pymnt_d                  97.13\n",
       "last_credit_pull_d             0.01\n",
       "collections_12_mths_ex_med     0.14\n",
       "policy_code                    0.00\n",
       "application_type               0.00\n",
       "acc_now_delinq                 0.00\n",
       "chargeoff_within_12_mths       0.14\n",
       "delinq_amnt                    0.00\n",
       "pub_rec_bankruptcies           1.75\n",
       "tax_liens                      0.10\n",
       "dtype: float64"
      ]
     },
     "execution_count": 14,
     "metadata": {},
     "output_type": "execute_result"
    }
   ],
   "source": [
    "# missing values percentages of remaining columns\n",
    "round((lend_df.isnull().sum()/len(lend_df.index))*100, 2)"
   ]
  },
  {
   "cell_type": "markdown",
   "id": "8882a025",
   "metadata": {},
   "source": [
    "There are still 4 columns with missing values (32%, 64%, 92% and 97%)\n",
    "Its always better to drop the columns having missing values more than 25-30%, Because due to lack of information they do not provide sufficient information.\n"
   ]
  },
  {
   "cell_type": "code",
   "execution_count": 15,
   "id": "7498e9cb",
   "metadata": {},
   "outputs": [],
   "source": [
    "# Dropping remaining columns with missing values\n",
    "missing_value_col = lend_df.columns[(lend_df.isnull().sum()/len(lend_df.index))*100 >30]\n",
    "\n",
    "lend_df = lend_df.drop(missing_value_col, axis=1)"
   ]
  },
  {
   "cell_type": "code",
   "execution_count": 16,
   "id": "a6955fa1",
   "metadata": {
    "scrolled": true
   },
   "outputs": [
    {
     "name": "stdout",
     "output_type": "stream",
     "text": [
      "<class 'pandas.core.frame.DataFrame'>\n",
      "RangeIndex: 39717 entries, 0 to 39716\n",
      "Data columns (total 53 columns):\n",
      " #   Column                      Non-Null Count  Dtype  \n",
      "---  ------                      --------------  -----  \n",
      " 0   id                          39717 non-null  int64  \n",
      " 1   member_id                   39717 non-null  int64  \n",
      " 2   loan_amnt                   39717 non-null  int64  \n",
      " 3   funded_amnt                 39717 non-null  int64  \n",
      " 4   funded_amnt_inv             39717 non-null  float64\n",
      " 5   term                        39717 non-null  object \n",
      " 6   int_rate                    39717 non-null  object \n",
      " 7   installment                 39717 non-null  float64\n",
      " 8   grade                       39717 non-null  object \n",
      " 9   sub_grade                   39717 non-null  object \n",
      " 10  emp_title                   37258 non-null  object \n",
      " 11  emp_length                  38642 non-null  object \n",
      " 12  home_ownership              39717 non-null  object \n",
      " 13  annual_inc                  39717 non-null  float64\n",
      " 14  verification_status         39717 non-null  object \n",
      " 15  issue_d                     39717 non-null  object \n",
      " 16  loan_status                 39717 non-null  object \n",
      " 17  pymnt_plan                  39717 non-null  object \n",
      " 18  url                         39717 non-null  object \n",
      " 19  purpose                     39717 non-null  object \n",
      " 20  title                       39706 non-null  object \n",
      " 21  zip_code                    39717 non-null  object \n",
      " 22  addr_state                  39717 non-null  object \n",
      " 23  dti                         39717 non-null  float64\n",
      " 24  delinq_2yrs                 39717 non-null  int64  \n",
      " 25  earliest_cr_line            39717 non-null  object \n",
      " 26  inq_last_6mths              39717 non-null  int64  \n",
      " 27  open_acc                    39717 non-null  int64  \n",
      " 28  pub_rec                     39717 non-null  int64  \n",
      " 29  revol_bal                   39717 non-null  int64  \n",
      " 30  revol_util                  39667 non-null  object \n",
      " 31  total_acc                   39717 non-null  int64  \n",
      " 32  initial_list_status         39717 non-null  object \n",
      " 33  out_prncp                   39717 non-null  float64\n",
      " 34  out_prncp_inv               39717 non-null  float64\n",
      " 35  total_pymnt                 39717 non-null  float64\n",
      " 36  total_pymnt_inv             39717 non-null  float64\n",
      " 37  total_rec_prncp             39717 non-null  float64\n",
      " 38  total_rec_int               39717 non-null  float64\n",
      " 39  total_rec_late_fee          39717 non-null  float64\n",
      " 40  recoveries                  39717 non-null  float64\n",
      " 41  collection_recovery_fee     39717 non-null  float64\n",
      " 42  last_pymnt_d                39646 non-null  object \n",
      " 43  last_pymnt_amnt             39717 non-null  float64\n",
      " 44  last_credit_pull_d          39715 non-null  object \n",
      " 45  collections_12_mths_ex_med  39661 non-null  float64\n",
      " 46  policy_code                 39717 non-null  int64  \n",
      " 47  application_type            39717 non-null  object \n",
      " 48  acc_now_delinq              39717 non-null  int64  \n",
      " 49  chargeoff_within_12_mths    39661 non-null  float64\n",
      " 50  delinq_amnt                 39717 non-null  int64  \n",
      " 51  pub_rec_bankruptcies        39020 non-null  float64\n",
      " 52  tax_liens                   39678 non-null  float64\n",
      "dtypes: float64(18), int64(13), object(22)\n",
      "memory usage: 16.1+ MB\n"
     ]
    }
   ],
   "source": [
    "# Lets see the remaining columns & details and their missing value status.\n",
    "lend_df.info()"
   ]
  },
  {
   "cell_type": "code",
   "execution_count": 17,
   "id": "9fdb097c",
   "metadata": {
    "scrolled": true
   },
   "outputs": [
    {
     "data": {
      "text/plain": [
       "id                            0.000000\n",
       "member_id                     0.000000\n",
       "loan_amnt                     0.000000\n",
       "funded_amnt                   0.000000\n",
       "funded_amnt_inv               0.000000\n",
       "term                          0.000000\n",
       "int_rate                      0.000000\n",
       "installment                   0.000000\n",
       "grade                         0.000000\n",
       "sub_grade                     0.000000\n",
       "emp_title                     6.191303\n",
       "emp_length                    2.706650\n",
       "home_ownership                0.000000\n",
       "annual_inc                    0.000000\n",
       "verification_status           0.000000\n",
       "issue_d                       0.000000\n",
       "loan_status                   0.000000\n",
       "pymnt_plan                    0.000000\n",
       "url                           0.000000\n",
       "purpose                       0.000000\n",
       "title                         0.027696\n",
       "zip_code                      0.000000\n",
       "addr_state                    0.000000\n",
       "dti                           0.000000\n",
       "delinq_2yrs                   0.000000\n",
       "earliest_cr_line              0.000000\n",
       "inq_last_6mths                0.000000\n",
       "open_acc                      0.000000\n",
       "pub_rec                       0.000000\n",
       "revol_bal                     0.000000\n",
       "revol_util                    0.125891\n",
       "total_acc                     0.000000\n",
       "initial_list_status           0.000000\n",
       "out_prncp                     0.000000\n",
       "out_prncp_inv                 0.000000\n",
       "total_pymnt                   0.000000\n",
       "total_pymnt_inv               0.000000\n",
       "total_rec_prncp               0.000000\n",
       "total_rec_int                 0.000000\n",
       "total_rec_late_fee            0.000000\n",
       "recoveries                    0.000000\n",
       "collection_recovery_fee       0.000000\n",
       "last_pymnt_d                  0.178765\n",
       "last_pymnt_amnt               0.000000\n",
       "last_credit_pull_d            0.005036\n",
       "collections_12_mths_ex_med    0.140998\n",
       "policy_code                   0.000000\n",
       "application_type              0.000000\n",
       "acc_now_delinq                0.000000\n",
       "chargeoff_within_12_mths      0.140998\n",
       "delinq_amnt                   0.000000\n",
       "pub_rec_bankruptcies          1.754916\n",
       "tax_liens                     0.098195\n",
       "dtype: float64"
      ]
     },
     "execution_count": 17,
     "metadata": {},
     "output_type": "execute_result"
    }
   ],
   "source": [
    "# Summarising missing values\n",
    "(lend_df.isnull().sum()/len(lend_df.index))*100"
   ]
  },
  {
   "cell_type": "markdown",
   "id": "673dcb94",
   "metadata": {},
   "source": [
    "Now the time is to check missing values in rows"
   ]
  },
  {
   "cell_type": "code",
   "execution_count": 18,
   "id": "927eb202",
   "metadata": {},
   "outputs": [
    {
     "data": {
      "text/plain": [
       "0        1\n",
       "1        0\n",
       "2        1\n",
       "3        0\n",
       "4        0\n",
       "        ..\n",
       "39712    4\n",
       "39713    4\n",
       "39714    5\n",
       "39715    5\n",
       "39716    4\n",
       "Length: 39717, dtype: int64"
      ]
     },
     "execution_count": 18,
     "metadata": {},
     "output_type": "execute_result"
    }
   ],
   "source": [
    "# missing values in rows\n",
    "lend_df.isnull().sum(axis=1)"
   ]
  },
  {
   "cell_type": "markdown",
   "id": "693ad77d",
   "metadata": {},
   "source": [
    "lets check whether some records are having missing values more than 5. Because records with maximum number of missing values will also not going to help us a lot to reach our goal.\n"
   ]
  },
  {
   "cell_type": "code",
   "execution_count": 19,
   "id": "514ad709",
   "metadata": {},
   "outputs": [
    {
     "data": {
      "text/plain": [
       "0"
      ]
     },
     "execution_count": 19,
     "metadata": {},
     "output_type": "execute_result"
    }
   ],
   "source": [
    "# Checking records having more than 5 missing values\n",
    "len(lend_df[lend_df.isnull().sum(axis=1) > 5])"
   ]
  },
  {
   "cell_type": "markdown",
   "id": "3529ec18",
   "metadata": {},
   "source": [
    "Here we can see we do not need to worry about record missing values."
   ]
  },
  {
   "cell_type": "code",
   "execution_count": 20,
   "id": "be1b8896",
   "metadata": {
    "scrolled": true
   },
   "outputs": [
    {
     "name": "stdout",
     "output_type": "stream",
     "text": [
      "<class 'pandas.core.frame.DataFrame'>\n",
      "RangeIndex: 39717 entries, 0 to 39716\n",
      "Data columns (total 53 columns):\n",
      " #   Column                      Non-Null Count  Dtype  \n",
      "---  ------                      --------------  -----  \n",
      " 0   id                          39717 non-null  int64  \n",
      " 1   member_id                   39717 non-null  int64  \n",
      " 2   loan_amnt                   39717 non-null  int64  \n",
      " 3   funded_amnt                 39717 non-null  int64  \n",
      " 4   funded_amnt_inv             39717 non-null  float64\n",
      " 5   term                        39717 non-null  object \n",
      " 6   int_rate                    39717 non-null  object \n",
      " 7   installment                 39717 non-null  float64\n",
      " 8   grade                       39717 non-null  object \n",
      " 9   sub_grade                   39717 non-null  object \n",
      " 10  emp_title                   37258 non-null  object \n",
      " 11  emp_length                  38642 non-null  object \n",
      " 12  home_ownership              39717 non-null  object \n",
      " 13  annual_inc                  39717 non-null  float64\n",
      " 14  verification_status         39717 non-null  object \n",
      " 15  issue_d                     39717 non-null  object \n",
      " 16  loan_status                 39717 non-null  object \n",
      " 17  pymnt_plan                  39717 non-null  object \n",
      " 18  url                         39717 non-null  object \n",
      " 19  purpose                     39717 non-null  object \n",
      " 20  title                       39706 non-null  object \n",
      " 21  zip_code                    39717 non-null  object \n",
      " 22  addr_state                  39717 non-null  object \n",
      " 23  dti                         39717 non-null  float64\n",
      " 24  delinq_2yrs                 39717 non-null  int64  \n",
      " 25  earliest_cr_line            39717 non-null  object \n",
      " 26  inq_last_6mths              39717 non-null  int64  \n",
      " 27  open_acc                    39717 non-null  int64  \n",
      " 28  pub_rec                     39717 non-null  int64  \n",
      " 29  revol_bal                   39717 non-null  int64  \n",
      " 30  revol_util                  39667 non-null  object \n",
      " 31  total_acc                   39717 non-null  int64  \n",
      " 32  initial_list_status         39717 non-null  object \n",
      " 33  out_prncp                   39717 non-null  float64\n",
      " 34  out_prncp_inv               39717 non-null  float64\n",
      " 35  total_pymnt                 39717 non-null  float64\n",
      " 36  total_pymnt_inv             39717 non-null  float64\n",
      " 37  total_rec_prncp             39717 non-null  float64\n",
      " 38  total_rec_int               39717 non-null  float64\n",
      " 39  total_rec_late_fee          39717 non-null  float64\n",
      " 40  recoveries                  39717 non-null  float64\n",
      " 41  collection_recovery_fee     39717 non-null  float64\n",
      " 42  last_pymnt_d                39646 non-null  object \n",
      " 43  last_pymnt_amnt             39717 non-null  float64\n",
      " 44  last_credit_pull_d          39715 non-null  object \n",
      " 45  collections_12_mths_ex_med  39661 non-null  float64\n",
      " 46  policy_code                 39717 non-null  int64  \n",
      " 47  application_type            39717 non-null  object \n",
      " 48  acc_now_delinq              39717 non-null  int64  \n",
      " 49  chargeoff_within_12_mths    39661 non-null  float64\n",
      " 50  delinq_amnt                 39717 non-null  int64  \n",
      " 51  pub_rec_bankruptcies        39020 non-null  float64\n",
      " 52  tax_liens                   39678 non-null  float64\n",
      "dtypes: float64(18), int64(13), object(22)\n",
      "memory usage: 16.1+ MB\n"
     ]
    }
   ],
   "source": [
    "# Let's look at the datatype and details of the columns and records\n",
    "lend_df.info()"
   ]
  },
  {
   "cell_type": "code",
   "execution_count": 21,
   "id": "4a8d2607",
   "metadata": {
    "scrolled": true
   },
   "outputs": [
    {
     "data": {
      "text/plain": [
       "array(['10.65%', '15.27%', '15.96%', '13.49%', '12.69%', '7.90%',\n",
       "       '18.64%', '21.28%', '14.65%', '9.91%', '16.29%', '6.03%', '11.71%',\n",
       "       '12.42%', '14.27%', '16.77%', '7.51%', '8.90%', '18.25%', '6.62%',\n",
       "       '19.91%', '17.27%', '17.58%', '21.67%', '19.42%', '22.06%',\n",
       "       '20.89%', '20.30%', '23.91%', '19.03%', '23.52%', '23.13%',\n",
       "       '22.74%', '22.35%', '24.11%', '6.00%', '22.11%', '7.49%', '11.99%',\n",
       "       '5.99%', '10.99%', '9.99%', '18.79%', '11.49%', '8.49%', '15.99%',\n",
       "       '16.49%', '6.99%', '12.99%', '15.23%', '14.79%', '5.42%', '10.59%',\n",
       "       '17.49%', '15.62%', '21.36%', '19.29%', '13.99%', '18.39%',\n",
       "       '16.89%', '17.99%', '20.62%', '20.99%', '22.85%', '19.69%',\n",
       "       '20.25%', '23.22%', '21.74%', '22.48%', '23.59%', '12.62%',\n",
       "       '18.07%', '11.63%', '7.91%', '7.42%', '11.14%', '20.20%', '12.12%',\n",
       "       '19.39%', '16.11%', '17.54%', '22.64%', '13.84%', '16.59%',\n",
       "       '17.19%', '12.87%', '20.69%', '9.67%', '21.82%', '19.79%',\n",
       "       '18.49%', '22.94%', '24.59%', '24.40%', '21.48%', '14.82%',\n",
       "       '14.17%', '7.29%', '17.88%', '20.11%', '16.02%', '17.51%',\n",
       "       '13.43%', '14.91%', '13.06%', '15.28%', '15.65%', '17.14%',\n",
       "       '11.11%', '10.37%', '16.40%', '7.66%', '10.00%', '18.62%',\n",
       "       '10.74%', '5.79%', '6.92%', '9.63%', '14.54%', '12.68%', '19.36%',\n",
       "       '13.80%', '18.99%', '21.59%', '20.85%', '21.22%', '19.74%',\n",
       "       '20.48%', '6.91%', '12.23%', '12.61%', '10.36%', '6.17%', '6.54%',\n",
       "       '9.25%', '16.69%', '15.95%', '8.88%', '13.35%', '9.62%', '16.32%',\n",
       "       '12.98%', '14.83%', '13.72%', '14.09%', '14.46%', '20.03%',\n",
       "       '17.80%', '15.20%', '15.57%', '18.54%', '19.66%', '17.06%',\n",
       "       '18.17%', '17.43%', '20.40%', '20.77%', '18.91%', '21.14%',\n",
       "       '17.44%', '13.23%', '7.88%', '11.12%', '13.61%', '10.38%',\n",
       "       '17.56%', '17.93%', '15.58%', '13.98%', '14.84%', '15.21%',\n",
       "       '6.76%', '6.39%', '11.86%', '7.14%', '14.35%', '16.82%', '10.75%',\n",
       "       '14.72%', '16.45%', '18.67%', '20.53%', '19.41%', '20.16%',\n",
       "       '21.27%', '18.30%', '19.04%', '20.90%', '21.64%', '12.73%',\n",
       "       '10.25%', '13.11%', '10.62%', '13.48%', '14.59%', '16.07%',\n",
       "       '15.70%', '9.88%', '11.36%', '15.33%', '13.85%', '14.96%',\n",
       "       '14.22%', '7.74%', '13.22%', '13.57%', '8.59%', '17.04%', '14.61%',\n",
       "       '8.94%', '12.18%', '11.83%', '11.48%', '16.35%', '13.92%',\n",
       "       '15.31%', '14.26%', '19.13%', '12.53%', '16.70%', '16.00%',\n",
       "       '17.39%', '18.09%', '7.40%', '18.43%', '17.74%', '7.05%', '20.52%',\n",
       "       '20.86%', '19.47%', '18.78%', '21.21%', '19.82%', '20.17%',\n",
       "       '13.16%', '8.00%', '13.47%', '12.21%', '16.63%', '9.32%', '12.84%',\n",
       "       '11.26%', '15.68%', '15.37%', '10.95%', '11.89%', '14.11%',\n",
       "       '13.79%', '7.68%', '11.58%', '7.37%', '16.95%', '15.05%', '18.53%',\n",
       "       '14.74%', '14.42%', '18.21%', '17.26%', '18.84%', '17.90%',\n",
       "       '19.16%', '13.67%', '9.38%', '12.72%', '13.36%', '11.46%',\n",
       "       '10.51%', '9.07%', '13.04%', '11.78%', '12.41%', '10.83%',\n",
       "       '12.09%', '17.46%', '14.30%', '17.15%', '15.25%', '10.20%',\n",
       "       '15.88%', '14.93%', '16.20%', '18.72%', '14.62%', '8.32%',\n",
       "       '14.12%', '10.96%', '10.33%', '10.01%', '12.86%', '11.28%',\n",
       "       '11.59%', '8.63%', '12.54%', '12.22%', '11.91%', '15.38%',\n",
       "       '16.96%', '13.17%', '9.70%', '16.33%', '14.75%', '15.07%',\n",
       "       '16.01%', '10.71%', '10.64%', '9.76%', '11.34%', '10.39%',\n",
       "       '13.87%', '11.03%', '11.66%', '13.24%', '10.08%', '9.45%',\n",
       "       '13.55%', '12.29%', '11.97%', '12.92%', '15.45%', '14.50%',\n",
       "       '14.18%', '15.13%', '16.08%', '15.76%', '17.03%', '17.34%',\n",
       "       '16.71%', '9.83%', '13.62%', '10.46%', '9.51%', '9.20%', '13.30%',\n",
       "       '10.78%', '7.75%', '8.38%', '12.36%', '12.67%', '11.72%', '13.93%',\n",
       "       '8.07%', '7.43%', '12.04%', '14.25%', '14.88%', '11.41%', '11.09%',\n",
       "       '10.14%', '16.15%', '15.83%', '7.12%', '18.36%', '9.64%', '9.96%',\n",
       "       '11.22%', '9.01%', '9.33%', '11.54%', '12.17%', '12.80%', '14.38%',\n",
       "       '13.75%', '14.70%', '12.49%', '14.07%', '10.91%', '13.12%',\n",
       "       '10.28%', '8.70%', '14.67%', '15.01%'], dtype=object)"
      ]
     },
     "execution_count": 21,
     "metadata": {},
     "output_type": "execute_result"
    }
   ],
   "source": [
    "# Checking unique values of interest rate column\n",
    "lend_df.int_rate.unique()"
   ]
  },
  {
   "cell_type": "markdown",
   "id": "e7c9cf55",
   "metadata": {},
   "source": [
    "Here for interest rate column we can see the datatype is object whereas it should be of numeric type and values are also suffixed with '%' symbol. We need to remove this."
   ]
  },
  {
   "cell_type": "code",
   "execution_count": 22,
   "id": "9387c477",
   "metadata": {},
   "outputs": [],
   "source": [
    "# Removing suffixed '%' symbol and converting int_rate column to float\n",
    "lend_df['int_rate']= lend_df['int_rate'].apply(lambda x: float(x[:-1]))"
   ]
  },
  {
   "cell_type": "code",
   "execution_count": 23,
   "id": "4511800e",
   "metadata": {
    "scrolled": true
   },
   "outputs": [
    {
     "name": "stdout",
     "output_type": "stream",
     "text": [
      "<class 'pandas.core.frame.DataFrame'>\n",
      "RangeIndex: 39717 entries, 0 to 39716\n",
      "Data columns (total 53 columns):\n",
      " #   Column                      Non-Null Count  Dtype  \n",
      "---  ------                      --------------  -----  \n",
      " 0   id                          39717 non-null  int64  \n",
      " 1   member_id                   39717 non-null  int64  \n",
      " 2   loan_amnt                   39717 non-null  int64  \n",
      " 3   funded_amnt                 39717 non-null  int64  \n",
      " 4   funded_amnt_inv             39717 non-null  float64\n",
      " 5   term                        39717 non-null  object \n",
      " 6   int_rate                    39717 non-null  float64\n",
      " 7   installment                 39717 non-null  float64\n",
      " 8   grade                       39717 non-null  object \n",
      " 9   sub_grade                   39717 non-null  object \n",
      " 10  emp_title                   37258 non-null  object \n",
      " 11  emp_length                  38642 non-null  object \n",
      " 12  home_ownership              39717 non-null  object \n",
      " 13  annual_inc                  39717 non-null  float64\n",
      " 14  verification_status         39717 non-null  object \n",
      " 15  issue_d                     39717 non-null  object \n",
      " 16  loan_status                 39717 non-null  object \n",
      " 17  pymnt_plan                  39717 non-null  object \n",
      " 18  url                         39717 non-null  object \n",
      " 19  purpose                     39717 non-null  object \n",
      " 20  title                       39706 non-null  object \n",
      " 21  zip_code                    39717 non-null  object \n",
      " 22  addr_state                  39717 non-null  object \n",
      " 23  dti                         39717 non-null  float64\n",
      " 24  delinq_2yrs                 39717 non-null  int64  \n",
      " 25  earliest_cr_line            39717 non-null  object \n",
      " 26  inq_last_6mths              39717 non-null  int64  \n",
      " 27  open_acc                    39717 non-null  int64  \n",
      " 28  pub_rec                     39717 non-null  int64  \n",
      " 29  revol_bal                   39717 non-null  int64  \n",
      " 30  revol_util                  39667 non-null  object \n",
      " 31  total_acc                   39717 non-null  int64  \n",
      " 32  initial_list_status         39717 non-null  object \n",
      " 33  out_prncp                   39717 non-null  float64\n",
      " 34  out_prncp_inv               39717 non-null  float64\n",
      " 35  total_pymnt                 39717 non-null  float64\n",
      " 36  total_pymnt_inv             39717 non-null  float64\n",
      " 37  total_rec_prncp             39717 non-null  float64\n",
      " 38  total_rec_int               39717 non-null  float64\n",
      " 39  total_rec_late_fee          39717 non-null  float64\n",
      " 40  recoveries                  39717 non-null  float64\n",
      " 41  collection_recovery_fee     39717 non-null  float64\n",
      " 42  last_pymnt_d                39646 non-null  object \n",
      " 43  last_pymnt_amnt             39717 non-null  float64\n",
      " 44  last_credit_pull_d          39715 non-null  object \n",
      " 45  collections_12_mths_ex_med  39661 non-null  float64\n",
      " 46  policy_code                 39717 non-null  int64  \n",
      " 47  application_type            39717 non-null  object \n",
      " 48  acc_now_delinq              39717 non-null  int64  \n",
      " 49  chargeoff_within_12_mths    39661 non-null  float64\n",
      " 50  delinq_amnt                 39717 non-null  int64  \n",
      " 51  pub_rec_bankruptcies        39020 non-null  float64\n",
      " 52  tax_liens                   39678 non-null  float64\n",
      "dtypes: float64(19), int64(13), object(21)\n",
      "memory usage: 16.1+ MB\n"
     ]
    }
   ],
   "source": [
    "# check columns datatypes\n",
    "lend_df.info()"
   ]
  },
  {
   "cell_type": "code",
   "execution_count": 24,
   "id": "dbe024e8",
   "metadata": {},
   "outputs": [
    {
     "data": {
      "text/plain": [
       "array(['10+ years', '< 1 year', '1 year', '3 years', '8 years', '9 years',\n",
       "       '4 years', '5 years', '6 years', '2 years', '7 years', nan],\n",
       "      dtype=object)"
      ]
     },
     "execution_count": 24,
     "metadata": {},
     "output_type": "execute_result"
    }
   ],
   "source": [
    "# Checking unique values of emp_length column\n",
    "lend_df.emp_length.unique()    "
   ]
  },
  {
   "cell_type": "markdown",
   "id": "895b38a4",
   "metadata": {},
   "source": [
    "We can use just the numeric value from this column to represent the employment length of a person. We can use regular expression to extract the numeric value.\n",
    "Along with this we can see some values are null here. So first let's drop those."
   ]
  },
  {
   "cell_type": "code",
   "execution_count": 25,
   "id": "4bcf9d00",
   "metadata": {},
   "outputs": [],
   "source": [
    "# Dropping null values from 'emp_length' column\n",
    "lend_df = lend_df.dropna(axis=0, subset = ['emp_length'])"
   ]
  },
  {
   "cell_type": "code",
   "execution_count": 26,
   "id": "6d2cc8c6",
   "metadata": {},
   "outputs": [
    {
     "data": {
      "text/plain": [
       "array(['10+ years', '< 1 year', '1 year', '3 years', '8 years', '9 years',\n",
       "       '4 years', '5 years', '6 years', '2 years', '7 years'],\n",
       "      dtype=object)"
      ]
     },
     "execution_count": 26,
     "metadata": {},
     "output_type": "execute_result"
    }
   ],
   "source": [
    "# checking unique values after dropping null values\n",
    "lend_df.emp_length.unique() "
   ]
  },
  {
   "cell_type": "code",
   "execution_count": 27,
   "id": "24649d9a",
   "metadata": {
    "scrolled": true
   },
   "outputs": [
    {
     "name": "stdout",
     "output_type": "stream",
     "text": [
      "<class 'pandas.core.frame.DataFrame'>\n",
      "Int64Index: 38642 entries, 0 to 39716\n",
      "Data columns (total 53 columns):\n",
      " #   Column                      Non-Null Count  Dtype  \n",
      "---  ------                      --------------  -----  \n",
      " 0   id                          38642 non-null  int64  \n",
      " 1   member_id                   38642 non-null  int64  \n",
      " 2   loan_amnt                   38642 non-null  int64  \n",
      " 3   funded_amnt                 38642 non-null  int64  \n",
      " 4   funded_amnt_inv             38642 non-null  float64\n",
      " 5   term                        38642 non-null  object \n",
      " 6   int_rate                    38642 non-null  float64\n",
      " 7   installment                 38642 non-null  float64\n",
      " 8   grade                       38642 non-null  object \n",
      " 9   sub_grade                   38642 non-null  object \n",
      " 10  emp_title                   37202 non-null  object \n",
      " 11  emp_length                  38642 non-null  object \n",
      " 12  home_ownership              38642 non-null  object \n",
      " 13  annual_inc                  38642 non-null  float64\n",
      " 14  verification_status         38642 non-null  object \n",
      " 15  issue_d                     38642 non-null  object \n",
      " 16  loan_status                 38642 non-null  object \n",
      " 17  pymnt_plan                  38642 non-null  object \n",
      " 18  url                         38642 non-null  object \n",
      " 19  purpose                     38642 non-null  object \n",
      " 20  title                       38632 non-null  object \n",
      " 21  zip_code                    38642 non-null  object \n",
      " 22  addr_state                  38642 non-null  object \n",
      " 23  dti                         38642 non-null  float64\n",
      " 24  delinq_2yrs                 38642 non-null  int64  \n",
      " 25  earliest_cr_line            38642 non-null  object \n",
      " 26  inq_last_6mths              38642 non-null  int64  \n",
      " 27  open_acc                    38642 non-null  int64  \n",
      " 28  pub_rec                     38642 non-null  int64  \n",
      " 29  revol_bal                   38642 non-null  int64  \n",
      " 30  revol_util                  38595 non-null  object \n",
      " 31  total_acc                   38642 non-null  int64  \n",
      " 32  initial_list_status         38642 non-null  object \n",
      " 33  out_prncp                   38642 non-null  float64\n",
      " 34  out_prncp_inv               38642 non-null  float64\n",
      " 35  total_pymnt                 38642 non-null  float64\n",
      " 36  total_pymnt_inv             38642 non-null  float64\n",
      " 37  total_rec_prncp             38642 non-null  float64\n",
      " 38  total_rec_int               38642 non-null  float64\n",
      " 39  total_rec_late_fee          38642 non-null  float64\n",
      " 40  recoveries                  38642 non-null  float64\n",
      " 41  collection_recovery_fee     38642 non-null  float64\n",
      " 42  last_pymnt_d                38576 non-null  object \n",
      " 43  last_pymnt_amnt             38642 non-null  float64\n",
      " 44  last_credit_pull_d          38640 non-null  object \n",
      " 45  collections_12_mths_ex_med  38586 non-null  float64\n",
      " 46  policy_code                 38642 non-null  int64  \n",
      " 47  application_type            38642 non-null  object \n",
      " 48  acc_now_delinq              38642 non-null  int64  \n",
      " 49  chargeoff_within_12_mths    38586 non-null  float64\n",
      " 50  delinq_amnt                 38642 non-null  int64  \n",
      " 51  pub_rec_bankruptcies        37945 non-null  float64\n",
      " 52  tax_liens                   38603 non-null  float64\n",
      "dtypes: float64(19), int64(13), object(21)\n",
      "memory usage: 15.9+ MB\n"
     ]
    }
   ],
   "source": [
    "# After above operation let's check datatypes of available variables\n",
    "lend_df.info()"
   ]
  },
  {
   "cell_type": "code",
   "execution_count": 28,
   "id": "26afd6f8",
   "metadata": {},
   "outputs": [],
   "source": [
    "# Extracting numbers from string using regular expression\n",
    "import re\n",
    "lend_df.emp_length=lend_df.emp_length.apply(lambda x: re.findall('\\d+', str(x))[0])"
   ]
  },
  {
   "cell_type": "code",
   "execution_count": 29,
   "id": "fedcfcc6",
   "metadata": {},
   "outputs": [],
   "source": [
    "# change datatype to numeric\n",
    "lend_df.emp_length = lend_df.emp_length.apply(lambda x: pd.to_numeric(x))"
   ]
  },
  {
   "cell_type": "code",
   "execution_count": 30,
   "id": "e789d018",
   "metadata": {
    "scrolled": true
   },
   "outputs": [
    {
     "name": "stdout",
     "output_type": "stream",
     "text": [
      "<class 'pandas.core.frame.DataFrame'>\n",
      "Int64Index: 38642 entries, 0 to 39716\n",
      "Data columns (total 53 columns):\n",
      " #   Column                      Non-Null Count  Dtype  \n",
      "---  ------                      --------------  -----  \n",
      " 0   id                          38642 non-null  int64  \n",
      " 1   member_id                   38642 non-null  int64  \n",
      " 2   loan_amnt                   38642 non-null  int64  \n",
      " 3   funded_amnt                 38642 non-null  int64  \n",
      " 4   funded_amnt_inv             38642 non-null  float64\n",
      " 5   term                        38642 non-null  object \n",
      " 6   int_rate                    38642 non-null  float64\n",
      " 7   installment                 38642 non-null  float64\n",
      " 8   grade                       38642 non-null  object \n",
      " 9   sub_grade                   38642 non-null  object \n",
      " 10  emp_title                   37202 non-null  object \n",
      " 11  emp_length                  38642 non-null  int64  \n",
      " 12  home_ownership              38642 non-null  object \n",
      " 13  annual_inc                  38642 non-null  float64\n",
      " 14  verification_status         38642 non-null  object \n",
      " 15  issue_d                     38642 non-null  object \n",
      " 16  loan_status                 38642 non-null  object \n",
      " 17  pymnt_plan                  38642 non-null  object \n",
      " 18  url                         38642 non-null  object \n",
      " 19  purpose                     38642 non-null  object \n",
      " 20  title                       38632 non-null  object \n",
      " 21  zip_code                    38642 non-null  object \n",
      " 22  addr_state                  38642 non-null  object \n",
      " 23  dti                         38642 non-null  float64\n",
      " 24  delinq_2yrs                 38642 non-null  int64  \n",
      " 25  earliest_cr_line            38642 non-null  object \n",
      " 26  inq_last_6mths              38642 non-null  int64  \n",
      " 27  open_acc                    38642 non-null  int64  \n",
      " 28  pub_rec                     38642 non-null  int64  \n",
      " 29  revol_bal                   38642 non-null  int64  \n",
      " 30  revol_util                  38595 non-null  object \n",
      " 31  total_acc                   38642 non-null  int64  \n",
      " 32  initial_list_status         38642 non-null  object \n",
      " 33  out_prncp                   38642 non-null  float64\n",
      " 34  out_prncp_inv               38642 non-null  float64\n",
      " 35  total_pymnt                 38642 non-null  float64\n",
      " 36  total_pymnt_inv             38642 non-null  float64\n",
      " 37  total_rec_prncp             38642 non-null  float64\n",
      " 38  total_rec_int               38642 non-null  float64\n",
      " 39  total_rec_late_fee          38642 non-null  float64\n",
      " 40  recoveries                  38642 non-null  float64\n",
      " 41  collection_recovery_fee     38642 non-null  float64\n",
      " 42  last_pymnt_d                38576 non-null  object \n",
      " 43  last_pymnt_amnt             38642 non-null  float64\n",
      " 44  last_credit_pull_d          38640 non-null  object \n",
      " 45  collections_12_mths_ex_med  38586 non-null  float64\n",
      " 46  policy_code                 38642 non-null  int64  \n",
      " 47  application_type            38642 non-null  object \n",
      " 48  acc_now_delinq              38642 non-null  int64  \n",
      " 49  chargeoff_within_12_mths    38586 non-null  float64\n",
      " 50  delinq_amnt                 38642 non-null  int64  \n",
      " 51  pub_rec_bankruptcies        37945 non-null  float64\n",
      " 52  tax_liens                   38603 non-null  float64\n",
      "dtypes: float64(19), int64(14), object(20)\n",
      "memory usage: 15.9+ MB\n"
     ]
    }
   ],
   "source": [
    "# Checking details of available variables\n",
    "lend_df.info()"
   ]
  },
  {
   "cell_type": "markdown",
   "id": "621c86e0",
   "metadata": {},
   "source": [
    "Now we can see emp_length column's datatype has been changed to numeric."
   ]
  },
  {
   "cell_type": "markdown",
   "id": "afe915b4",
   "metadata": {},
   "source": [
    "## Data Analysis"
   ]
  },
  {
   "cell_type": "markdown",
   "id": "ef8560f0",
   "metadata": {},
   "source": [
    "The objective is to identify predictors of default so that at the time of loan application, we can use those variables for approval/rejection of the loan.\n",
    "\n",
    "There are broadly 3 types of variables:\n",
    "\n",
    "    1. Those which are related to the applicant(demographic variables such as age, occupation, employment details etc.)\n",
    "    \n",
    "    2. Loan characteristics (amount of loan, interest rate, purpose of loan etc.)\n",
    "    \n",
    "    3. Customer behavior variables (those which are generated after the loan is approved such as delinquent 2 years, revolving balance, next payment date etc.)\n",
    "    \n",
    "Let's see the list of customer behavior variables first:\n"
   ]
  },
  {
   "cell_type": "code",
   "execution_count": 31,
   "id": "0da7edf8",
   "metadata": {},
   "outputs": [
    {
     "data": {
      "text/plain": [
       "Index(['id', 'member_id', 'loan_amnt', 'funded_amnt', 'funded_amnt_inv',\n",
       "       'term', 'int_rate', 'installment', 'grade', 'sub_grade', 'emp_title',\n",
       "       'emp_length', 'home_ownership', 'annual_inc', 'verification_status',\n",
       "       'issue_d', 'loan_status', 'pymnt_plan', 'url', 'purpose', 'title',\n",
       "       'zip_code', 'addr_state', 'dti', 'delinq_2yrs', 'earliest_cr_line',\n",
       "       'inq_last_6mths', 'open_acc', 'pub_rec', 'revol_bal', 'revol_util',\n",
       "       'total_acc', 'initial_list_status', 'out_prncp', 'out_prncp_inv',\n",
       "       'total_pymnt', 'total_pymnt_inv', 'total_rec_prncp', 'total_rec_int',\n",
       "       'total_rec_late_fee', 'recoveries', 'collection_recovery_fee',\n",
       "       'last_pymnt_d', 'last_pymnt_amnt', 'last_credit_pull_d',\n",
       "       'collections_12_mths_ex_med', 'policy_code', 'application_type',\n",
       "       'acc_now_delinq', 'chargeoff_within_12_mths', 'delinq_amnt',\n",
       "       'pub_rec_bankruptcies', 'tax_liens'],\n",
       "      dtype='object')"
      ]
     },
     "execution_count": 31,
     "metadata": {},
     "output_type": "execute_result"
    }
   ],
   "source": [
    "# list of all columns\n",
    "lend_df.columns"
   ]
  },
  {
   "cell_type": "code",
   "execution_count": 32,
   "id": "f86dfe1b",
   "metadata": {},
   "outputs": [],
   "source": [
    "# list of customer behavior variables\n",
    "cust_behave_var = ['delinq_2yrs',\n",
    "                   'inq_last_6mths',\n",
    "                   'open_acc',\n",
    "                    'revol_bal',\n",
    "                   'revol_util',\n",
    "                    'out_prncp',\n",
    "                   'out_prncp_inv',\n",
    "                   'pub_rec',\n",
    "                   'total_acc',\n",
    "                    'total_pymnt',\n",
    "                    'total_pymnt_inv',\n",
    "                    'total_rec_prncp',\n",
    "                    'total_rec_int',\n",
    "                    'total_rec_late_fee',\n",
    "                    'recoveries',\n",
    "                    'collection_recovery_fee',\n",
    "                    'last_pymnt_d',\n",
    "                    'last_pymnt_amnt',\n",
    "                    'chargeoff_within_12_mths',\n",
    "                    'earliest_cr_line',\n",
    "                  'last_credit_pull_d']"
   ]
  },
  {
   "cell_type": "code",
   "execution_count": 33,
   "id": "33f38ad7",
   "metadata": {},
   "outputs": [
    {
     "name": "stdout",
     "output_type": "stream",
     "text": [
      "['delinq_2yrs', 'inq_last_6mths', 'open_acc', 'revol_bal', 'revol_util', 'out_prncp', 'out_prncp_inv', 'pub_rec', 'total_acc', 'total_pymnt', 'total_pymnt_inv', 'total_rec_prncp', 'total_rec_int', 'total_rec_late_fee', 'recoveries', 'collection_recovery_fee', 'last_pymnt_d', 'last_pymnt_amnt', 'chargeoff_within_12_mths', 'earliest_cr_line', 'last_credit_pull_d']\n"
     ]
    }
   ],
   "source": [
    "# checking list of customer behavior column\n",
    "print(cust_behave_var)"
   ]
  },
  {
   "cell_type": "markdown",
   "id": "14364afd",
   "metadata": {},
   "source": [
    "Now, the customer behavior variables are not available at the time of loan application, and thus they cannot be used as predictors for credit approval."
   ]
  },
  {
   "cell_type": "code",
   "execution_count": 34,
   "id": "4cd61ee8",
   "metadata": {},
   "outputs": [],
   "source": [
    "# Dropping customer behavior variables\n",
    "lend_df = lend_df.drop(cust_behave_var, axis =1)"
   ]
  },
  {
   "cell_type": "code",
   "execution_count": 35,
   "id": "970bfce4",
   "metadata": {},
   "outputs": [
    {
     "data": {
      "text/plain": [
       "Index(['id', 'member_id', 'loan_amnt', 'funded_amnt', 'funded_amnt_inv',\n",
       "       'term', 'int_rate', 'installment', 'grade', 'sub_grade', 'emp_title',\n",
       "       'emp_length', 'home_ownership', 'annual_inc', 'verification_status',\n",
       "       'issue_d', 'loan_status', 'pymnt_plan', 'url', 'purpose', 'title',\n",
       "       'zip_code', 'addr_state', 'dti', 'initial_list_status',\n",
       "       'collections_12_mths_ex_med', 'policy_code', 'application_type',\n",
       "       'acc_now_delinq', 'delinq_amnt', 'pub_rec_bankruptcies', 'tax_liens'],\n",
       "      dtype='object')"
      ]
     },
     "execution_count": 35,
     "metadata": {},
     "output_type": "execute_result"
    }
   ],
   "source": [
    "# list of all remaining columns\n",
    "lend_df.columns"
   ]
  },
  {
   "cell_type": "markdown",
   "id": "3d0f55ad",
   "metadata": {},
   "source": [
    "There are some variables relevant to applicant like title and some like url are also not relevant for our purpose. Let's drop them as well"
   ]
  },
  {
   "cell_type": "code",
   "execution_count": 36,
   "id": "0134e984",
   "metadata": {},
   "outputs": [],
   "source": [
    "# Dropping some variables which are not relevant\n",
    "lend_df = lend_df.drop(['title', 'zip_code', 'url', 'addr_state', 'id', 'member_id', 'pub_rec_bankruptcies', 'tax_liens', 'pymnt_plan'], axis = 1)"
   ]
  },
  {
   "cell_type": "code",
   "execution_count": 37,
   "id": "b828c824",
   "metadata": {},
   "outputs": [
    {
     "data": {
      "text/plain": [
       "Index(['loan_amnt', 'funded_amnt', 'funded_amnt_inv', 'term', 'int_rate',\n",
       "       'installment', 'grade', 'sub_grade', 'emp_title', 'emp_length',\n",
       "       'home_ownership', 'annual_inc', 'verification_status', 'issue_d',\n",
       "       'loan_status', 'purpose', 'dti', 'initial_list_status',\n",
       "       'collections_12_mths_ex_med', 'policy_code', 'application_type',\n",
       "       'acc_now_delinq', 'delinq_amnt'],\n",
       "      dtype='object')"
      ]
     },
     "execution_count": 37,
     "metadata": {},
     "output_type": "execute_result"
    }
   ],
   "source": [
    "# list of all remaining columns\n",
    "lend_df.columns"
   ]
  },
  {
   "cell_type": "markdown",
   "id": "3eb25ec8",
   "metadata": {},
   "source": [
    "Let's have a look at the target variable now i.e. loan_status\n",
    "\n",
    "The ones marked 'current' are neither fully paid not defaulted, so get rid of the current loans."
   ]
  },
  {
   "cell_type": "code",
   "execution_count": 38,
   "id": "3a9c8db2",
   "metadata": {},
   "outputs": [
    {
     "data": {
      "text/plain": [
       "array(['Fully Paid', 'Charged Off', 'Current'], dtype=object)"
      ]
     },
     "execution_count": 38,
     "metadata": {},
     "output_type": "execute_result"
    }
   ],
   "source": [
    "# Looking for Unique values of column 'loan_status' \n",
    "lend_df.loan_status.unique()"
   ]
  },
  {
   "cell_type": "code",
   "execution_count": 39,
   "id": "1fca659c",
   "metadata": {},
   "outputs": [
    {
     "data": {
      "text/plain": [
       "Fully Paid     32145\n",
       "Charged Off     5399\n",
       "Current         1098\n",
       "Name: loan_status, dtype: int64"
      ]
     },
     "execution_count": 39,
     "metadata": {},
     "output_type": "execute_result"
    }
   ],
   "source": [
    "# Counting records of individual status from loan_status column\n",
    "lend_df.loan_status.value_counts()"
   ]
  },
  {
   "cell_type": "markdown",
   "id": "a7c331c9",
   "metadata": {},
   "source": [
    "We can see the number for Fully Paid is greater.\n",
    "Here Current status means its neither fully paid or charged off. So we can get rid of it."
   ]
  },
  {
   "cell_type": "code",
   "execution_count": 40,
   "id": "4c3448b6",
   "metadata": {},
   "outputs": [],
   "source": [
    "# Remove records with loan_status as 'Current'\n",
    "lend_df = lend_df[lend_df['loan_status'] != 'Current']"
   ]
  },
  {
   "cell_type": "code",
   "execution_count": 41,
   "id": "7b222f53",
   "metadata": {},
   "outputs": [
    {
     "data": {
      "text/plain": [
       "array(['Fully Paid', 'Charged Off'], dtype=object)"
      ]
     },
     "execution_count": 41,
     "metadata": {},
     "output_type": "execute_result"
    }
   ],
   "source": [
    "# Looking for Unique values of column 'loan_status' \n",
    "lend_df.loan_status.unique()"
   ]
  },
  {
   "cell_type": "markdown",
   "id": "262dfc53",
   "metadata": {},
   "source": [
    "Now we can see we have only two values as loan_status. loan_status is a categorical variable now.\n"
   ]
  },
  {
   "cell_type": "code",
   "execution_count": 42,
   "id": "a699dc36",
   "metadata": {},
   "outputs": [],
   "source": [
    "# Change type of loan_status variable to category\n",
    "lend_df.loan_status = lend_df.loan_status.astype('category')"
   ]
  },
  {
   "cell_type": "code",
   "execution_count": 43,
   "id": "874fd0d3",
   "metadata": {
    "scrolled": true
   },
   "outputs": [
    {
     "name": "stdout",
     "output_type": "stream",
     "text": [
      "<class 'pandas.core.frame.DataFrame'>\n",
      "Int64Index: 37544 entries, 0 to 39716\n",
      "Data columns (total 23 columns):\n",
      " #   Column                      Non-Null Count  Dtype   \n",
      "---  ------                      --------------  -----   \n",
      " 0   loan_amnt                   37544 non-null  int64   \n",
      " 1   funded_amnt                 37544 non-null  int64   \n",
      " 2   funded_amnt_inv             37544 non-null  float64 \n",
      " 3   term                        37544 non-null  object  \n",
      " 4   int_rate                    37544 non-null  float64 \n",
      " 5   installment                 37544 non-null  float64 \n",
      " 6   grade                       37544 non-null  object  \n",
      " 7   sub_grade                   37544 non-null  object  \n",
      " 8   emp_title                   36136 non-null  object  \n",
      " 9   emp_length                  37544 non-null  int64   \n",
      " 10  home_ownership              37544 non-null  object  \n",
      " 11  annual_inc                  37544 non-null  float64 \n",
      " 12  verification_status         37544 non-null  object  \n",
      " 13  issue_d                     37544 non-null  object  \n",
      " 14  loan_status                 37544 non-null  category\n",
      " 15  purpose                     37544 non-null  object  \n",
      " 16  dti                         37544 non-null  float64 \n",
      " 17  initial_list_status         37544 non-null  object  \n",
      " 18  collections_12_mths_ex_med  37488 non-null  float64 \n",
      " 19  policy_code                 37544 non-null  int64   \n",
      " 20  application_type            37544 non-null  object  \n",
      " 21  acc_now_delinq              37544 non-null  int64   \n",
      " 22  delinq_amnt                 37544 non-null  int64   \n",
      "dtypes: category(1), float64(6), int64(6), object(10)\n",
      "memory usage: 6.6+ MB\n"
     ]
    }
   ],
   "source": [
    "# checking details of data we have\n",
    "lend_df.info()"
   ]
  },
  {
   "cell_type": "markdown",
   "id": "93e10126",
   "metadata": {},
   "source": [
    "<!-- We can tag remaining 2 values of loan_status as 0 and 1.\n",
    "0 : Fully Paid\n",
    "1 : Charged Off -->"
   ]
  },
  {
   "cell_type": "code",
   "execution_count": 44,
   "id": "d1b91ed9",
   "metadata": {},
   "outputs": [
    {
     "data": {
      "text/plain": [
       "['Fully Paid', 'Charged Off']\n",
       "Categories (2, object): ['Charged Off', 'Fully Paid']"
      ]
     },
     "execution_count": 44,
     "metadata": {},
     "output_type": "execute_result"
    }
   ],
   "source": [
    "# looking for loan_status unique values\n",
    "lend_df.loan_status.unique()"
   ]
  },
  {
   "cell_type": "code",
   "execution_count": 45,
   "id": "fb3c0e1f",
   "metadata": {
    "scrolled": true
   },
   "outputs": [
    {
     "name": "stdout",
     "output_type": "stream",
     "text": [
      "<class 'pandas.core.frame.DataFrame'>\n",
      "Int64Index: 37544 entries, 0 to 39716\n",
      "Data columns (total 23 columns):\n",
      " #   Column                      Non-Null Count  Dtype   \n",
      "---  ------                      --------------  -----   \n",
      " 0   loan_amnt                   37544 non-null  int64   \n",
      " 1   funded_amnt                 37544 non-null  int64   \n",
      " 2   funded_amnt_inv             37544 non-null  float64 \n",
      " 3   term                        37544 non-null  object  \n",
      " 4   int_rate                    37544 non-null  float64 \n",
      " 5   installment                 37544 non-null  float64 \n",
      " 6   grade                       37544 non-null  object  \n",
      " 7   sub_grade                   37544 non-null  object  \n",
      " 8   emp_title                   36136 non-null  object  \n",
      " 9   emp_length                  37544 non-null  int64   \n",
      " 10  home_ownership              37544 non-null  object  \n",
      " 11  annual_inc                  37544 non-null  float64 \n",
      " 12  verification_status         37544 non-null  object  \n",
      " 13  issue_d                     37544 non-null  object  \n",
      " 14  loan_status                 37544 non-null  category\n",
      " 15  purpose                     37544 non-null  object  \n",
      " 16  dti                         37544 non-null  float64 \n",
      " 17  initial_list_status         37544 non-null  object  \n",
      " 18  collections_12_mths_ex_med  37488 non-null  float64 \n",
      " 19  policy_code                 37544 non-null  int64   \n",
      " 20  application_type            37544 non-null  object  \n",
      " 21  acc_now_delinq              37544 non-null  int64   \n",
      " 22  delinq_amnt                 37544 non-null  int64   \n",
      "dtypes: category(1), float64(6), int64(6), object(10)\n",
      "memory usage: 6.6+ MB\n"
     ]
    }
   ],
   "source": [
    "# check datatypes of available variables\n",
    "lend_df.info()"
   ]
  },
  {
   "cell_type": "code",
   "execution_count": 46,
   "id": "07abfc54",
   "metadata": {
    "scrolled": true
   },
   "outputs": [
    {
     "data": {
      "text/plain": [
       "loan_amnt                        0\n",
       "funded_amnt                      0\n",
       "funded_amnt_inv                  0\n",
       "term                             0\n",
       "int_rate                         0\n",
       "installment                      0\n",
       "grade                            0\n",
       "sub_grade                        0\n",
       "emp_title                     1408\n",
       "emp_length                       0\n",
       "home_ownership                   0\n",
       "annual_inc                       0\n",
       "verification_status              0\n",
       "issue_d                          0\n",
       "loan_status                      0\n",
       "purpose                          0\n",
       "dti                              0\n",
       "initial_list_status              0\n",
       "collections_12_mths_ex_med      56\n",
       "policy_code                      0\n",
       "application_type                 0\n",
       "acc_now_delinq                   0\n",
       "delinq_amnt                      0\n",
       "dtype: int64"
      ]
     },
     "execution_count": 46,
     "metadata": {},
     "output_type": "execute_result"
    }
   ],
   "source": [
    "# Summaring missing values\n",
    "lend_df.isnull().sum()"
   ]
  },
  {
   "cell_type": "markdown",
   "id": "ef5b4b43",
   "metadata": {},
   "source": [
    "## Outlier Treatment"
   ]
  },
  {
   "cell_type": "markdown",
   "id": "3a615563",
   "metadata": {},
   "source": [
    "Let's analyze following few numerical variables one by one which could possibly have outliers using box plots.\n",
    "\n",
    "1. annual_inc\n",
    "2. dti\n",
    "3. loan_amnt\n",
    "4. funded_amnt_inv"
   ]
  },
  {
   "cell_type": "code",
   "execution_count": 47,
   "id": "e4f4f604",
   "metadata": {},
   "outputs": [
    {
     "data": {
      "text/plain": [
       "<Axes: >"
      ]
     },
     "execution_count": 47,
     "metadata": {},
     "output_type": "execute_result"
    },
    {
     "data": {
      "image/png": "[encoded data removed]",
      "text/plain": [
       "<Figure size 432x288 with 1 Axes>"
      ]
     },
     "metadata": {
      "needs_background": "light"
     },
     "output_type": "display_data"
    }
   ],
   "source": [
    "# checking outlier for annual_inc column\n",
    "sns.boxplot(lend_df['annual_inc'])\n"
   ]
  },
  {
   "cell_type": "markdown",
   "id": "8d8e4377",
   "metadata": {},
   "source": [
    "Here, clearly we can see that outliers are present.\n",
    "We need to find the threshold for removing outliers.\n",
    "Let's see the quantile info:"
   ]
  },
  {
   "cell_type": "code",
   "execution_count": 48,
   "id": "47c64032",
   "metadata": {},
   "outputs": [
    {
     "data": {
      "text/plain": [
       "0.50     60000.0\n",
       "0.75     83000.0\n",
       "0.90    116672.4\n",
       "0.95    142000.0\n",
       "0.97    166213.0\n",
       "0.99    235000.0\n",
       "Name: annual_inc, dtype: float64"
      ]
     },
     "execution_count": 48,
     "metadata": {},
     "output_type": "execute_result"
    }
   ],
   "source": [
    "# checking quantile information\n",
    "quantile_info = lend_df.annual_inc.quantile([0.5, 0.75, 0.90, 0.95, 0.97, 0.99])\n",
    "quantile_info"
   ]
  },
  {
   "cell_type": "markdown",
   "id": "c7a62937",
   "metadata": {},
   "source": [
    "The values after 95 percentile seems to be disconected from the general distribution and also there is huge increase in the value for small quantile variation.\n",
    "let's consider threshold is 0.95"
   ]
  },
  {
   "cell_type": "code",
   "execution_count": 49,
   "id": "47e315e0",
   "metadata": {},
   "outputs": [],
   "source": [
    "# Getting rid of values above threshold of 0.95\n",
    "annual_inc_per_95 = lend_df['annual_inc'].quantile(0.95)\n",
    "lend_df = lend_df[lend_df.annual_inc <= annual_inc_per_95]"
   ]
  },
  {
   "cell_type": "code",
   "execution_count": 50,
   "id": "e497b96a",
   "metadata": {},
   "outputs": [
    {
     "data": {
      "text/plain": [
       "<Axes: >"
      ]
     },
     "execution_count": 50,
     "metadata": {},
     "output_type": "execute_result"
    },
    {
     "data": {
      "image/png": "[encoded data removed]",
      "text/plain": [
       "<Figure size 432x288 with 1 Axes>"
      ]
     },
     "metadata": {
      "needs_background": "light"
     },
     "output_type": "display_data"
    }
   ],
   "source": [
    "# plot a boxplot to see the result of removing outliers\n",
    "sns.boxplot(lend_df['annual_inc'])"
   ]
  },
  {
   "cell_type": "code",
   "execution_count": 51,
   "id": "52e0a3eb",
   "metadata": {},
   "outputs": [
    {
     "data": {
      "text/plain": [
       "<Axes: >"
      ]
     },
     "execution_count": 51,
     "metadata": {},
     "output_type": "execute_result"
    },
    {
     "data": {
      "image/png": "[encoded data removed]",
      "text/plain": [
       "<Figure size 432x288 with 1 Axes>"
      ]
     },
     "metadata": {
      "needs_background": "light"
     },
     "output_type": "display_data"
    }
   ],
   "source": [
    "# checking outlier for dti column\n",
    "sns.boxplot(lend_df['dti'])\n"
   ]
  },
  {
   "cell_type": "markdown",
   "id": "915656e8",
   "metadata": {},
   "source": [
    "Here we can see the distibution is fair and no outliers in dti column"
   ]
  },
  {
   "cell_type": "code",
   "execution_count": 52,
   "id": "b41b3a55",
   "metadata": {},
   "outputs": [
    {
     "data": {
      "text/plain": [
       "<Axes: >"
      ]
     },
     "execution_count": 52,
     "metadata": {},
     "output_type": "execute_result"
    },
    {
     "data": {
      "image/png": "[encoded data removed]",
      "text/plain": [
       "<Figure size 432x288 with 1 Axes>"
      ]
     },
     "metadata": {
      "needs_background": "light"
     },
     "output_type": "display_data"
    }
   ],
   "source": [
    "# checking outlier for loan_amnt column\n",
    "sns.boxplot(lend_df['loan_amnt'])"
   ]
  },
  {
   "cell_type": "markdown",
   "id": "aefa53c7",
   "metadata": {},
   "source": [
    "Here we can see some outliers in loan_amnt column. Let's see the quantile distribution also:"
   ]
  },
  {
   "cell_type": "code",
   "execution_count": 53,
   "id": "3284dbd2",
   "metadata": {},
   "outputs": [
    {
     "data": {
      "text/plain": [
       "0.50     9500.0\n",
       "0.75    15000.0\n",
       "0.90    20000.0\n",
       "0.95    25000.0\n",
       "0.97    25795.0\n",
       "0.99    35000.0\n",
       "Name: loan_amnt, dtype: float64"
      ]
     },
     "execution_count": 53,
     "metadata": {},
     "output_type": "execute_result"
    }
   ],
   "source": [
    "# checking quantile information\n",
    "quantile_info = lend_df.loan_amnt.quantile([0.5, 0.75, 0.90, 0.95, 0.97, 0.99])\n",
    "quantile_info"
   ]
  },
  {
   "cell_type": "code",
   "execution_count": 54,
   "id": "e74f30a8",
   "metadata": {},
   "outputs": [
    {
     "data": {
      "text/plain": [
       "<Axes: >"
      ]
     },
     "execution_count": 54,
     "metadata": {},
     "output_type": "execute_result"
    },
    {
     "data": {
      "image/png": "[encoded data removed]",
      "text/plain": [
       "<Figure size 432x288 with 1 Axes>"
      ]
     },
     "metadata": {
      "needs_background": "light"
     },
     "output_type": "display_data"
    }
   ],
   "source": [
    "# checking outlier for funded_amnt_inv column\n",
    "sns.boxplot(lend_df['funded_amnt_inv'])"
   ]
  },
  {
   "cell_type": "markdown",
   "id": "8b9d6fe5",
   "metadata": {},
   "source": [
    "Here we can see some outliers in funded_amnt_inv column. Let's see the quantile distribution also:"
   ]
  },
  {
   "cell_type": "code",
   "execution_count": 55,
   "id": "4c470e70",
   "metadata": {},
   "outputs": [
    {
     "data": {
      "text/plain": [
       "0.50     8412.208039\n",
       "0.75    13749.998585\n",
       "0.90    19770.806164\n",
       "0.95    23950.050847\n",
       "0.97    24975.000000\n",
       "0.99    31981.500000\n",
       "Name: funded_amnt_inv, dtype: float64"
      ]
     },
     "execution_count": 55,
     "metadata": {},
     "output_type": "execute_result"
    }
   ],
   "source": [
    "# checking quantile information\n",
    "quantile_info = lend_df.funded_amnt_inv.quantile([0.5, 0.75, 0.90, 0.95, 0.97, 0.99])\n",
    "quantile_info"
   ]
  },
  {
   "cell_type": "markdown",
   "id": "beee8014",
   "metadata": {},
   "source": [
    "There are some values which are far from the distribution but the distribution is continuous that is why no need to remove these values."
   ]
  },
  {
   "cell_type": "code",
   "execution_count": 56,
   "id": "17679361",
   "metadata": {
    "scrolled": true
   },
   "outputs": [
    {
     "name": "stdout",
     "output_type": "stream",
     "text": [
      "<class 'pandas.core.frame.DataFrame'>\n",
      "Int64Index: 35675 entries, 0 to 39716\n",
      "Data columns (total 23 columns):\n",
      " #   Column                      Non-Null Count  Dtype   \n",
      "---  ------                      --------------  -----   \n",
      " 0   loan_amnt                   35675 non-null  int64   \n",
      " 1   funded_amnt                 35675 non-null  int64   \n",
      " 2   funded_amnt_inv             35675 non-null  float64 \n",
      " 3   term                        35675 non-null  object  \n",
      " 4   int_rate                    35675 non-null  float64 \n",
      " 5   installment                 35675 non-null  float64 \n",
      " 6   grade                       35675 non-null  object  \n",
      " 7   sub_grade                   35675 non-null  object  \n",
      " 8   emp_title                   34430 non-null  object  \n",
      " 9   emp_length                  35675 non-null  int64   \n",
      " 10  home_ownership              35675 non-null  object  \n",
      " 11  annual_inc                  35675 non-null  float64 \n",
      " 12  verification_status         35675 non-null  object  \n",
      " 13  issue_d                     35675 non-null  object  \n",
      " 14  loan_status                 35675 non-null  category\n",
      " 15  purpose                     35675 non-null  object  \n",
      " 16  dti                         35675 non-null  float64 \n",
      " 17  initial_list_status         35675 non-null  object  \n",
      " 18  collections_12_mths_ex_med  35630 non-null  float64 \n",
      " 19  policy_code                 35675 non-null  int64   \n",
      " 20  application_type            35675 non-null  object  \n",
      " 21  acc_now_delinq              35675 non-null  int64   \n",
      " 22  delinq_amnt                 35675 non-null  int64   \n",
      "dtypes: category(1), float64(6), int64(6), object(10)\n",
      "memory usage: 7.3+ MB\n"
     ]
    }
   ],
   "source": [
    "# Checking details of available variables\n",
    "lend_df.info()"
   ]
  },
  {
   "cell_type": "markdown",
   "id": "402edc3a",
   "metadata": {},
   "source": [
    "## Visualizing Categorical Data"
   ]
  },
  {
   "cell_type": "code",
   "execution_count": 57,
   "id": "9d736e56",
   "metadata": {},
   "outputs": [
    {
     "data": {
      "text/plain": [
       "<Axes: xlabel='loan_status', ylabel='count'>"
      ]
     },
     "execution_count": 57,
     "metadata": {},
     "output_type": "execute_result"
    },
    {
     "data": {
      "image/png": "[encoded data removed]",
      "text/plain": [
       "<Figure size 432x288 with 1 Axes>"
      ]
     },
     "metadata": {
      "needs_background": "light"
     },
     "output_type": "display_data"
    }
   ],
   "source": [
    "sns.countplot(x = 'loan_status', data = lend_df)"
   ]
  },
  {
   "cell_type": "code",
   "execution_count": 58,
   "id": "921b45fc",
   "metadata": {},
   "outputs": [
    {
     "data": {
      "text/plain": [
       "Fully Paid     30479\n",
       "Charged Off     5196\n",
       "Name: loan_status, dtype: int64"
      ]
     },
     "execution_count": 58,
     "metadata": {},
     "output_type": "execute_result"
    }
   ],
   "source": [
    "# Counting records with individual status from loan_status\n",
    "lend_df['loan_status'].value_counts()"
   ]
  },
  {
   "cell_type": "code",
   "execution_count": 59,
   "id": "d055ce15",
   "metadata": {},
   "outputs": [
    {
     "data": {
      "text/plain": [
       "0.85"
      ]
     },
     "execution_count": 59,
     "metadata": {},
     "output_type": "execute_result"
    }
   ],
   "source": [
    "# Fully Paid rate\n",
    "round(len(lend_df[lend_df['loan_status']=='Fully Paid'])/ len(lend_df['loan_status']), 2)"
   ]
  },
  {
   "cell_type": "code",
   "execution_count": 60,
   "id": "64e4b222",
   "metadata": {},
   "outputs": [
    {
     "data": {
      "text/plain": [
       "0.15"
      ]
     },
     "execution_count": 60,
     "metadata": {},
     "output_type": "execute_result"
    }
   ],
   "source": [
    "# default rate\n",
    "round(len(lend_df[lend_df['loan_status']=='Charged Off'])/ len(lend_df['loan_status']), 2)"
   ]
  },
  {
   "cell_type": "markdown",
   "id": "12598bb0",
   "metadata": {},
   "source": [
    "We are analyzing and visualizing only the defaulter data. So subsetting the data while plotting only for **'Charged Off'** loan_status for below plots"
   ]
  },
  {
   "cell_type": "code",
   "execution_count": 61,
   "id": "4a2d137d",
   "metadata": {},
   "outputs": [],
   "source": [
    "# function to plot loan_status across all available categorical variables\n",
    "def plotsToCompare(cat_var):\n",
    "    sns.countplot(x = cat_var, data = lend_df[lend_df.loan_status == 'Charged Off'])"
   ]
  },
  {
   "cell_type": "code",
   "execution_count": 62,
   "id": "13c7f990",
   "metadata": {},
   "outputs": [
    {
     "data": {
      "text/plain": [
       "array(['credit_card', 'car', 'small_business', 'other', 'wedding',\n",
       "       'debt_consolidation', 'home_improvement', 'major_purchase',\n",
       "       'medical', 'moving', 'vacation', 'house', 'renewable_energy',\n",
       "       'educational'], dtype=object)"
      ]
     },
     "execution_count": 62,
     "metadata": {},
     "output_type": "execute_result"
    }
   ],
   "source": [
    "# Checking unique values for column purpose\n",
    "lend_df.purpose.unique()"
   ]
  },
  {
   "cell_type": "code",
   "execution_count": 63,
   "id": "873ceae6",
   "metadata": {},
   "outputs": [
    {
     "data": {
      "text/plain": [
       "array(['B', 'C', 'A', 'E', 'F', 'D', 'G'], dtype=object)"
      ]
     },
     "execution_count": 63,
     "metadata": {},
     "output_type": "execute_result"
    }
   ],
   "source": [
    "# Checking unique values for grade column\n",
    "lend_df.grade.unique()"
   ]
  },
  {
   "cell_type": "code",
   "execution_count": 64,
   "id": "ed776c95",
   "metadata": {},
   "outputs": [
    {
     "data": {
      "image/png": "[encoded data removed]",
      "text/plain": [
       "<Figure size 432x288 with 1 Axes>"
      ]
     },
     "metadata": {
      "needs_background": "light"
     },
     "output_type": "display_data"
    }
   ],
   "source": [
    "# Comparing default rates against grade column using countplot\n",
    "plotsToCompare('grade')"
   ]
  },
  {
   "cell_type": "markdown",
   "id": "f7c631bc",
   "metadata": {},
   "source": [
    "We can see grade B & C has many defaulters."
   ]
  },
  {
   "cell_type": "markdown",
   "id": "6855d649",
   "metadata": {},
   "source": [
    "To see more in detail for every grade we have sub_grade column as well. Lets visuzlize using those"
   ]
  },
  {
   "cell_type": "code",
   "execution_count": 65,
   "id": "4929f162",
   "metadata": {},
   "outputs": [
    {
     "data": {
      "text/plain": [
       "array(['B2', 'C4', 'C5', 'C1', 'A4', 'E1', 'F2', 'B5', 'C3', 'B1', 'D1',\n",
       "       'A1', 'B3', 'B4', 'C2', 'D2', 'A3', 'A5', 'D5', 'A2', 'E4', 'D3',\n",
       "       'D4', 'F3', 'E3', 'F1', 'E5', 'G4', 'E2', 'G2', 'G1', 'F5', 'F4',\n",
       "       'G5', 'G3'], dtype=object)"
      ]
     },
     "execution_count": 65,
     "metadata": {},
     "output_type": "execute_result"
    }
   ],
   "source": [
    "# unique values of sub_grade\n",
    "lend_df.sub_grade.unique()"
   ]
  },
  {
   "cell_type": "code",
   "execution_count": 66,
   "id": "136fe302",
   "metadata": {},
   "outputs": [],
   "source": [
    "# let's extact the numeric value from sub_grade column\n",
    "lend_df.sub_grade = lend_df.sub_grade.apply(lambda x: x[-1])\n",
    "\n",
    "# Convert sub_grade column to integer\n",
    "lend_df.sub_grade = lend_df.sub_grade.astype('int64')"
   ]
  },
  {
   "cell_type": "code",
   "execution_count": 67,
   "id": "65d54f09",
   "metadata": {},
   "outputs": [
    {
     "data": {
      "text/plain": [
       "array([2, 4, 5, 1, 3], dtype=int64)"
      ]
     },
     "execution_count": 67,
     "metadata": {},
     "output_type": "execute_result"
    }
   ],
   "source": [
    "# After operation now let's check unique values of sub_grade\n",
    "lend_df.sub_grade.unique()"
   ]
  },
  {
   "cell_type": "code",
   "execution_count": 68,
   "id": "6ad46303",
   "metadata": {
    "scrolled": true
   },
   "outputs": [
    {
     "data": {
      "text/plain": [
       "<Axes: xlabel='grade', ylabel='count'>"
      ]
     },
     "execution_count": 68,
     "metadata": {},
     "output_type": "execute_result"
    },
    {
     "data": {
      "image/png": "[encoded data removed]",
      "text/plain": [
       "<Figure size 864x432 with 1 Axes>"
      ]
     },
     "metadata": {
      "needs_background": "light"
     },
     "output_type": "display_data"
    }
   ],
   "source": [
    "# plot loan_status across all grades and sub_grades\n",
    "\n",
    "fig, ax = plt.subplots(figsize=(12,6))\n",
    "sns.countplot(x = 'grade', order = ['A', 'B', 'C', 'D', 'E', 'F', 'G'] , hue = 'sub_grade',data = lend_df[lend_df.loan_status == 'Charged Off'])"
   ]
  },
  {
   "cell_type": "markdown",
   "id": "8bec70cd",
   "metadata": {},
   "source": [
    "Here if we look at Grade A and its sub_grade then A1 is better than A2 and so on"
   ]
  },
  {
   "cell_type": "code",
   "execution_count": 69,
   "id": "cbf1959b",
   "metadata": {
    "scrolled": false
   },
   "outputs": [
    {
     "data": {
      "image/png": "[encoded data removed]",
      "text/plain": [
       "<Figure size 864x432 with 1 Axes>"
      ]
     },
     "metadata": {
      "needs_background": "light"
     },
     "output_type": "display_data"
    }
   ],
   "source": [
    "# Comparing default rates against term column using countplot\n",
    "fig, ax = plt.subplots(figsize=(12,6))\n",
    "plotsToCompare('term')"
   ]
  },
  {
   "cell_type": "markdown",
   "id": "18987825",
   "metadata": {},
   "source": [
    "There are more defaulters for 60 months loan than 36 months."
   ]
  },
  {
   "cell_type": "code",
   "execution_count": 70,
   "id": "f31ea52e",
   "metadata": {
    "scrolled": true
   },
   "outputs": [
    {
     "data": {
      "text/plain": [
       "array(['RENT', 'OWN', 'MORTGAGE', 'OTHER', 'NONE'], dtype=object)"
      ]
     },
     "execution_count": 70,
     "metadata": {},
     "output_type": "execute_result"
    }
   ],
   "source": [
    "# Analysis home_ownership column\n",
    "# unique values of home_ownership column\n",
    "\n",
    "lend_df.home_ownership.unique()"
   ]
  },
  {
   "cell_type": "code",
   "execution_count": 71,
   "id": "02ed8ae5",
   "metadata": {},
   "outputs": [
    {
     "data": {
      "text/plain": [
       "RENT        17638\n",
       "MORTGAGE    15289\n",
       "OWN          2652\n",
       "OTHER          93\n",
       "NONE            3\n",
       "Name: home_ownership, dtype: int64"
      ]
     },
     "execution_count": 71,
     "metadata": {},
     "output_type": "execute_result"
    }
   ],
   "source": [
    "# Counting records with individual value from home_ownership column\n",
    "lend_df.home_ownership.value_counts()"
   ]
  },
  {
   "cell_type": "markdown",
   "id": "f50a13be",
   "metadata": {},
   "source": [
    "Here there are only 3 NONE values. We will replace it with OTHER for ease."
   ]
  },
  {
   "cell_type": "code",
   "execution_count": 72,
   "id": "2cdd4116",
   "metadata": {},
   "outputs": [],
   "source": [
    "# Replacing 'NONE' with 'OTHER'\n",
    "lend_df['home_ownership'].replace(to_replace = ['NONE'],value='OTHER',inplace = True)"
   ]
  },
  {
   "cell_type": "code",
   "execution_count": 73,
   "id": "b7dd954f",
   "metadata": {},
   "outputs": [
    {
     "data": {
      "text/plain": [
       "RENT        17638\n",
       "MORTGAGE    15289\n",
       "OWN          2652\n",
       "OTHER          96\n",
       "Name: home_ownership, dtype: int64"
      ]
     },
     "execution_count": 73,
     "metadata": {},
     "output_type": "execute_result"
    }
   ],
   "source": [
    "# after value replacement, let's check total value count\n",
    "lend_df.home_ownership.value_counts()"
   ]
  },
  {
   "cell_type": "code",
   "execution_count": 74,
   "id": "dd73cba3",
   "metadata": {
    "scrolled": true
   },
   "outputs": [
    {
     "data": {
      "image/png": "[encoded data removed]",
      "text/plain": [
       "<Figure size 432x288 with 1 Axes>"
      ]
     },
     "metadata": {
      "needs_background": "light"
     },
     "output_type": "display_data"
    }
   ],
   "source": [
    "# Loan status Vs home_ownership\n",
    "plotsToCompare('home_ownership')"
   ]
  },
  {
   "cell_type": "markdown",
   "id": "b8d006e1",
   "metadata": {},
   "source": [
    "Here defaulters are more for whom home ownership is 'RENT'"
   ]
  },
  {
   "cell_type": "code",
   "execution_count": 75,
   "id": "e09b6504",
   "metadata": {},
   "outputs": [
    {
     "data": {
      "image/png": "[encoded data removed]",
      "text/plain": [
       "<Figure size 432x288 with 1 Axes>"
      ]
     },
     "metadata": {
      "needs_background": "light"
     },
     "output_type": "display_data"
    }
   ],
   "source": [
    "# Loan status Vs verification_status\n",
    "plotsToCompare('verification_status')"
   ]
  },
  {
   "cell_type": "markdown",
   "id": "199fde52",
   "metadata": {},
   "source": [
    "There are maximum defaulters for whom verification has not been done. Source verification has become the fruitful to reduce this number compare to Not verified."
   ]
  },
  {
   "cell_type": "code",
   "execution_count": 76,
   "id": "d548722a",
   "metadata": {
    "scrolled": true
   },
   "outputs": [
    {
     "data": {
      "image/png": "[encoded data removed]",
      "text/plain": [
       "<Figure size 864x432 with 1 Axes>"
      ]
     },
     "metadata": {
      "needs_background": "light"
     },
     "output_type": "display_data"
    }
   ],
   "source": [
    "# Analyse purpose against loan_status\n",
    "fig, ax = plt.subplots(figsize=(12,6))\n",
    "plt.xticks(rotation=45)\n",
    "plotsToCompare('purpose')\n"
   ]
  },
  {
   "cell_type": "markdown",
   "id": "574ef2dd",
   "metadata": {},
   "source": [
    "There are more defaulters who has mentioned there purpose for loan as debt_consolidation"
   ]
  },
  {
   "cell_type": "code",
   "execution_count": 77,
   "id": "0105757a",
   "metadata": {},
   "outputs": [
    {
     "data": {
      "image/png": "[encoded data removed]",
      "text/plain": [
       "<Figure size 432x288 with 1 Axes>"
      ]
     },
     "metadata": {
      "needs_background": "light"
     },
     "output_type": "display_data"
    }
   ],
   "source": [
    "# Analyse emp_length against loan_status\n",
    "plotsToCompare('emp_length')"
   ]
  },
  {
   "cell_type": "markdown",
   "id": "426e5892",
   "metadata": {},
   "source": [
    "More defaulters are the people who are employed 10 or more than 10 years.\n",
    "There are slight less number of defaulters are from the group where people are employed for 1 year.\n"
   ]
  },
  {
   "cell_type": "markdown",
   "id": "7b3560df",
   "metadata": {},
   "source": [
    "### Analysis using numerical variables as categorical variables"
   ]
  },
  {
   "cell_type": "markdown",
   "id": "edd5e1fa",
   "metadata": {},
   "source": [
    "We can convert numerical variables into categorical using bins for the purpose of analysis. We will use here following columns:\n",
    "\n",
    "    1. int_rate\n",
    "    2. annual_inc\n",
    "    3. installment\n",
    "    4. funded_amnt_inv\n",
    "    5. loan_amnt\n",
    "    6.dti"
   ]
  },
  {
   "cell_type": "code",
   "execution_count": 78,
   "id": "18803cf9",
   "metadata": {},
   "outputs": [],
   "source": [
    "# Creating bins for int_rate & annual_inc\n",
    "lend_df['int_rate_groups'] = pd.cut(lend_df['int_rate'], bins=5,precision =0,labels=['5%-9%','9%-13%','13%-17%','17%-21%','21%-24%'])\n",
    "lend_df['annual_inc_groups'] = pd.cut(lend_df['annual_inc'], bins=5,precision =0,labels =['3k-31k','31k-58k','58k-85k','85k-112k','112k-140k'])\n",
    "lend_df['installment_groups'] = pd.cut(lend_df['installment'], bins=10,precision =0,labels=['14-145','145-274','274-403','403-531','531-660','660-789','789-918','918-1047','1047-1176','1176-1305'])\n",
    "lend_df['funded_amnt_inv_group'] = pd.cut(lend_df['funded_amnt_inv'], bins=7,labels=['0-5k','5k-10k','10k-15k','15k-20k','20k-25k','25k-30k','30k-35k']) ## bin is starting from -35?\n",
    "lend_df['loan_amnt_groups'] = pd.cut(lend_df['loan_amnt'], bins=7,precision =0,labels=['0-5k','5k-10k','10k-15k','15k-20k','20k-25k','25k-30k','30k-35k'])\n",
    "lend_df['dti_groups'] = pd.cut(lend_df['dti'], bins=5,precision =0,labels=['0-6','6-12','12-18','18-24','24-30'])"
   ]
  },
  {
   "cell_type": "code",
   "execution_count": 79,
   "id": "699e691e",
   "metadata": {
    "scrolled": false
   },
   "outputs": [
    {
     "data": {
      "text/html": [
       "<div>\n",
       "<style scoped>\n",
       "    .dataframe tbody tr th:only-of-type {\n",
       "        vertical-align: middle;\n",
       "    }\n",
       "\n",
       "    .dataframe tbody tr th {\n",
       "        vertical-align: top;\n",
       "    }\n",
       "\n",
       "    .dataframe thead th {\n",
       "        text-align: right;\n",
       "    }\n",
       "</style>\n",
       "<table border=\"1\" class=\"dataframe\">\n",
       "  <thead>\n",
       "    <tr style=\"text-align: right;\">\n",
       "      <th></th>\n",
       "      <th>loan_amnt</th>\n",
       "      <th>funded_amnt</th>\n",
       "      <th>funded_amnt_inv</th>\n",
       "      <th>term</th>\n",
       "      <th>int_rate</th>\n",
       "      <th>installment</th>\n",
       "      <th>grade</th>\n",
       "      <th>sub_grade</th>\n",
       "      <th>emp_title</th>\n",
       "      <th>emp_length</th>\n",
       "      <th>...</th>\n",
       "      <th>policy_code</th>\n",
       "      <th>application_type</th>\n",
       "      <th>acc_now_delinq</th>\n",
       "      <th>delinq_amnt</th>\n",
       "      <th>int_rate_groups</th>\n",
       "      <th>annual_inc_groups</th>\n",
       "      <th>installment_groups</th>\n",
       "      <th>funded_amnt_inv_group</th>\n",
       "      <th>loan_amnt_groups</th>\n",
       "      <th>dti_groups</th>\n",
       "    </tr>\n",
       "  </thead>\n",
       "  <tbody>\n",
       "    <tr>\n",
       "      <th>0</th>\n",
       "      <td>5000</td>\n",
       "      <td>5000</td>\n",
       "      <td>4975.0</td>\n",
       "      <td>36 months</td>\n",
       "      <td>10.65</td>\n",
       "      <td>162.87</td>\n",
       "      <td>B</td>\n",
       "      <td>2</td>\n",
       "      <td>NaN</td>\n",
       "      <td>10</td>\n",
       "      <td>...</td>\n",
       "      <td>1</td>\n",
       "      <td>INDIVIDUAL</td>\n",
       "      <td>0</td>\n",
       "      <td>0</td>\n",
       "      <td>9%-13%</td>\n",
       "      <td>3k-31k</td>\n",
       "      <td>145-274</td>\n",
       "      <td>0-5k</td>\n",
       "      <td>0-5k</td>\n",
       "      <td>24-30</td>\n",
       "    </tr>\n",
       "    <tr>\n",
       "      <th>1</th>\n",
       "      <td>2500</td>\n",
       "      <td>2500</td>\n",
       "      <td>2500.0</td>\n",
       "      <td>60 months</td>\n",
       "      <td>15.27</td>\n",
       "      <td>59.83</td>\n",
       "      <td>C</td>\n",
       "      <td>4</td>\n",
       "      <td>Ryder</td>\n",
       "      <td>1</td>\n",
       "      <td>...</td>\n",
       "      <td>1</td>\n",
       "      <td>INDIVIDUAL</td>\n",
       "      <td>0</td>\n",
       "      <td>0</td>\n",
       "      <td>13%-17%</td>\n",
       "      <td>3k-31k</td>\n",
       "      <td>14-145</td>\n",
       "      <td>0-5k</td>\n",
       "      <td>0-5k</td>\n",
       "      <td>0-6</td>\n",
       "    </tr>\n",
       "    <tr>\n",
       "      <th>2</th>\n",
       "      <td>2400</td>\n",
       "      <td>2400</td>\n",
       "      <td>2400.0</td>\n",
       "      <td>36 months</td>\n",
       "      <td>15.96</td>\n",
       "      <td>84.33</td>\n",
       "      <td>C</td>\n",
       "      <td>5</td>\n",
       "      <td>NaN</td>\n",
       "      <td>10</td>\n",
       "      <td>...</td>\n",
       "      <td>1</td>\n",
       "      <td>INDIVIDUAL</td>\n",
       "      <td>0</td>\n",
       "      <td>0</td>\n",
       "      <td>13%-17%</td>\n",
       "      <td>3k-31k</td>\n",
       "      <td>14-145</td>\n",
       "      <td>0-5k</td>\n",
       "      <td>0-5k</td>\n",
       "      <td>6-12</td>\n",
       "    </tr>\n",
       "    <tr>\n",
       "      <th>3</th>\n",
       "      <td>10000</td>\n",
       "      <td>10000</td>\n",
       "      <td>10000.0</td>\n",
       "      <td>36 months</td>\n",
       "      <td>13.49</td>\n",
       "      <td>339.31</td>\n",
       "      <td>C</td>\n",
       "      <td>1</td>\n",
       "      <td>AIR RESOURCES BOARD</td>\n",
       "      <td>10</td>\n",
       "      <td>...</td>\n",
       "      <td>1</td>\n",
       "      <td>INDIVIDUAL</td>\n",
       "      <td>0</td>\n",
       "      <td>0</td>\n",
       "      <td>13%-17%</td>\n",
       "      <td>31k-58k</td>\n",
       "      <td>274-403</td>\n",
       "      <td>5k-10k</td>\n",
       "      <td>5k-10k</td>\n",
       "      <td>18-24</td>\n",
       "    </tr>\n",
       "    <tr>\n",
       "      <th>5</th>\n",
       "      <td>5000</td>\n",
       "      <td>5000</td>\n",
       "      <td>5000.0</td>\n",
       "      <td>36 months</td>\n",
       "      <td>7.90</td>\n",
       "      <td>156.46</td>\n",
       "      <td>A</td>\n",
       "      <td>4</td>\n",
       "      <td>Veolia Transportaton</td>\n",
       "      <td>3</td>\n",
       "      <td>...</td>\n",
       "      <td>1</td>\n",
       "      <td>INDIVIDUAL</td>\n",
       "      <td>0</td>\n",
       "      <td>0</td>\n",
       "      <td>5%-9%</td>\n",
       "      <td>31k-58k</td>\n",
       "      <td>145-274</td>\n",
       "      <td>0-5k</td>\n",
       "      <td>0-5k</td>\n",
       "      <td>6-12</td>\n",
       "    </tr>\n",
       "  </tbody>\n",
       "</table>\n",
       "<p>5 rows × 29 columns</p>\n",
       "</div>"
      ],
      "text/plain": [
       "   loan_amnt  funded_amnt  funded_amnt_inv        term  int_rate  installment  \\\n",
       "0       5000         5000           4975.0   36 months     10.65       162.87   \n",
       "1       2500         2500           2500.0   60 months     15.27        59.83   \n",
       "2       2400         2400           2400.0   36 months     15.96        84.33   \n",
       "3      10000        10000          10000.0   36 months     13.49       339.31   \n",
       "5       5000         5000           5000.0   36 months      7.90       156.46   \n",
       "\n",
       "  grade  sub_grade             emp_title  emp_length  ... policy_code  \\\n",
       "0     B          2                   NaN          10  ...           1   \n",
       "1     C          4                 Ryder           1  ...           1   \n",
       "2     C          5                   NaN          10  ...           1   \n",
       "3     C          1   AIR RESOURCES BOARD          10  ...           1   \n",
       "5     A          4  Veolia Transportaton           3  ...           1   \n",
       "\n",
       "   application_type acc_now_delinq delinq_amnt int_rate_groups  \\\n",
       "0        INDIVIDUAL              0           0          9%-13%   \n",
       "1        INDIVIDUAL              0           0         13%-17%   \n",
       "2        INDIVIDUAL              0           0         13%-17%   \n",
       "3        INDIVIDUAL              0           0         13%-17%   \n",
       "5        INDIVIDUAL              0           0           5%-9%   \n",
       "\n",
       "  annual_inc_groups  installment_groups funded_amnt_inv_group  \\\n",
       "0            3k-31k             145-274                  0-5k   \n",
       "1            3k-31k              14-145                  0-5k   \n",
       "2            3k-31k              14-145                  0-5k   \n",
       "3           31k-58k             274-403                5k-10k   \n",
       "5           31k-58k             145-274                  0-5k   \n",
       "\n",
       "   loan_amnt_groups  dti_groups  \n",
       "0              0-5k       24-30  \n",
       "1              0-5k         0-6  \n",
       "2              0-5k        6-12  \n",
       "3            5k-10k       18-24  \n",
       "5              0-5k        6-12  \n",
       "\n",
       "[5 rows x 29 columns]"
      ]
     },
     "execution_count": 79,
     "metadata": {},
     "output_type": "execute_result"
    }
   ],
   "source": [
    "# Viewing new bins created\n",
    "lend_df.head()"
   ]
  },
  {
   "cell_type": "markdown",
   "id": "59da5d2b",
   "metadata": {},
   "source": [
    "### Analyzing interest rate wrt the interest rate bins created"
   ]
  },
  {
   "cell_type": "code",
   "execution_count": 80,
   "id": "5f4db096",
   "metadata": {},
   "outputs": [
    {
     "data": {
      "image/png": "[encoded data removed]",
      "text/plain": [
       "<Figure size 432x288 with 1 Axes>"
      ]
     },
     "metadata": {
      "needs_background": "light"
     },
     "output_type": "display_data"
    }
   ],
   "source": [
    "# interest rate wrt interest rate bins\n",
    "plotsToCompare('int_rate_groups')"
   ]
  },
  {
   "cell_type": "markdown",
   "id": "a37c3556",
   "metadata": {},
   "source": [
    "We can see maximum defaulters are those who has recieved the loan with interest rates approximately in between 9%-13% and 13%-17%"
   ]
  },
  {
   "cell_type": "markdown",
   "id": "0c1d4340",
   "metadata": {},
   "source": [
    "### Analyzing annual income wrt the annual income bins created"
   ]
  },
  {
   "cell_type": "code",
   "execution_count": 81,
   "id": "0033f891",
   "metadata": {
    "scrolled": true
   },
   "outputs": [
    {
     "data": {
      "image/png": "[encoded data removed]",
      "text/plain": [
       "<Figure size 432x288 with 1 Axes>"
      ]
     },
     "metadata": {
      "needs_background": "light"
     },
     "output_type": "display_data"
    }
   ],
   "source": [
    "# annual income wrt the annual income bins\n",
    "plotsToCompare('annual_inc_groups')"
   ]
  },
  {
   "cell_type": "markdown",
   "id": "21c95441",
   "metadata": {},
   "source": [
    "There are many defaulters whose annual income lies in the range of 31k-85k"
   ]
  },
  {
   "cell_type": "markdown",
   "id": "3eb435ba",
   "metadata": {},
   "source": [
    "### Analyzing installments wrt the installment bins created"
   ]
  },
  {
   "cell_type": "code",
   "execution_count": 82,
   "id": "19234439",
   "metadata": {
    "scrolled": false
   },
   "outputs": [
    {
     "data": {
      "image/png": "[encoded data removed]",
      "text/plain": [
       "<Figure size 864x360 with 1 Axes>"
      ]
     },
     "metadata": {
      "needs_background": "light"
     },
     "output_type": "display_data"
    }
   ],
   "source": [
    "# installments wrt the installment bins\n",
    "fig,ax = plt.subplots(figsize = (12,5))\n",
    "# we will use log scale on y axis\n",
    "ax.set_yscale('log')\n",
    "plotsToCompare('installment_groups')"
   ]
  },
  {
   "cell_type": "markdown",
   "id": "839d9a5e",
   "metadata": {},
   "source": [
    "### Analyzing funded_amnt_inv wrt the funded_amnt_inv bins created"
   ]
  },
  {
   "cell_type": "code",
   "execution_count": 83,
   "id": "d72ca5ff",
   "metadata": {},
   "outputs": [
    {
     "data": {
      "image/png": "[encoded data removed]",
      "text/plain": [
       "<Figure size 864x360 with 1 Axes>"
      ]
     },
     "metadata": {
      "needs_background": "light"
     },
     "output_type": "display_data"
    }
   ],
   "source": [
    "# funded_amnt_inv wrt the funded_amnt_inv bins\n",
    "fig,ax = plt.subplots(figsize = (12,5))\n",
    "# we will use log scale on y axis\n",
    "ax.set_yscale('log')\n",
    "plotsToCompare('funded_amnt_inv_group')"
   ]
  },
  {
   "cell_type": "markdown",
   "id": "cf39b75c",
   "metadata": {},
   "source": [
    "### Analyzing loan_amnt wrt the loan_amnt bins created"
   ]
  },
  {
   "cell_type": "code",
   "execution_count": 84,
   "id": "408fe704",
   "metadata": {},
   "outputs": [
    {
     "data": {
      "image/png": "[encoded data removed]",
      "text/plain": [
       "<Figure size 864x360 with 1 Axes>"
      ]
     },
     "metadata": {
      "needs_background": "light"
     },
     "output_type": "display_data"
    }
   ],
   "source": [
    "#  loan_amnt wrt the loan_amnt bins\n",
    "fig,ax = plt.subplots(figsize = (12,5))\n",
    "# we will use log scale on y axis\n",
    "ax.set_yscale('log')\n",
    "plotsToCompare('loan_amnt_groups')"
   ]
  },
  {
   "cell_type": "markdown",
   "id": "a8972c9e",
   "metadata": {},
   "source": [
    "### Analyzing dti wrt the dti bins created"
   ]
  },
  {
   "cell_type": "code",
   "execution_count": 85,
   "id": "06cb0a77",
   "metadata": {},
   "outputs": [
    {
     "data": {
      "image/png": "[encoded data removed]",
      "text/plain": [
       "<Figure size 864x360 with 1 Axes>"
      ]
     },
     "metadata": {
      "needs_background": "light"
     },
     "output_type": "display_data"
    }
   ],
   "source": [
    "# dti wrt the dti bins \n",
    "fig,ax = plt.subplots(figsize = (12,5))\n",
    "plotsToCompare('dti_groups')"
   ]
  },
  {
   "cell_type": "markdown",
   "id": "64d2ddc4",
   "metadata": {},
   "source": [
    "### Now we will observe the distribution of loans across years\n",
    "\n"
   ]
  },
  {
   "cell_type": "code",
   "execution_count": 86,
   "id": "ef447c01",
   "metadata": {},
   "outputs": [
    {
     "data": {
      "text/plain": [
       "0    Dec-11\n",
       "1    Dec-11\n",
       "2    Dec-11\n",
       "3    Dec-11\n",
       "5    Dec-11\n",
       "Name: issue_d, dtype: object"
      ]
     },
     "execution_count": 86,
     "metadata": {},
     "output_type": "execute_result"
    }
   ],
   "source": [
    "# We can get month and year from the column - 'issue_d'\n",
    "lend_df.issue_d.head()"
   ]
  },
  {
   "cell_type": "code",
   "execution_count": 87,
   "id": "74b88477",
   "metadata": {},
   "outputs": [],
   "source": [
    "# Change 'issue_d' column's datatype from object to datetime\n",
    "from datetime import datetime\n",
    "lend_df['issue_d'] = lend_df['issue_d'].apply(lambda x: datetime.strptime(x, '%b-%y'))"
   ]
  },
  {
   "cell_type": "code",
   "execution_count": 88,
   "id": "8650896c",
   "metadata": {
    "scrolled": true
   },
   "outputs": [
    {
     "name": "stdout",
     "output_type": "stream",
     "text": [
      "<class 'pandas.core.frame.DataFrame'>\n",
      "Int64Index: 35675 entries, 0 to 39716\n",
      "Data columns (total 29 columns):\n",
      " #   Column                      Non-Null Count  Dtype         \n",
      "---  ------                      --------------  -----         \n",
      " 0   loan_amnt                   35675 non-null  int64         \n",
      " 1   funded_amnt                 35675 non-null  int64         \n",
      " 2   funded_amnt_inv             35675 non-null  float64       \n",
      " 3   term                        35675 non-null  object        \n",
      " 4   int_rate                    35675 non-null  float64       \n",
      " 5   installment                 35675 non-null  float64       \n",
      " 6   grade                       35675 non-null  object        \n",
      " 7   sub_grade                   35675 non-null  int64         \n",
      " 8   emp_title                   34430 non-null  object        \n",
      " 9   emp_length                  35675 non-null  int64         \n",
      " 10  home_ownership              35675 non-null  object        \n",
      " 11  annual_inc                  35675 non-null  float64       \n",
      " 12  verification_status         35675 non-null  object        \n",
      " 13  issue_d                     35675 non-null  datetime64[ns]\n",
      " 14  loan_status                 35675 non-null  category      \n",
      " 15  purpose                     35675 non-null  object        \n",
      " 16  dti                         35675 non-null  float64       \n",
      " 17  initial_list_status         35675 non-null  object        \n",
      " 18  collections_12_mths_ex_med  35630 non-null  float64       \n",
      " 19  policy_code                 35675 non-null  int64         \n",
      " 20  application_type            35675 non-null  object        \n",
      " 21  acc_now_delinq              35675 non-null  int64         \n",
      " 22  delinq_amnt                 35675 non-null  int64         \n",
      " 23  int_rate_groups             35675 non-null  category      \n",
      " 24  annual_inc_groups           35675 non-null  category      \n",
      " 25  installment_groups          35675 non-null  category      \n",
      " 26  funded_amnt_inv_group       35675 non-null  category      \n",
      " 27  loan_amnt_groups            35675 non-null  category      \n",
      " 28  dti_groups                  35675 non-null  category      \n",
      "dtypes: category(7), datetime64[ns](1), float64(6), int64(7), object(8)\n",
      "memory usage: 7.5+ MB\n"
     ]
    }
   ],
   "source": [
    "# check datatypes of variables\n",
    "lend_df.info()"
   ]
  },
  {
   "cell_type": "code",
   "execution_count": 89,
   "id": "dc827c93",
   "metadata": {},
   "outputs": [],
   "source": [
    "# extracting month and year from issue_d column\n",
    "lend_df['month'] = lend_df['issue_d'].apply(lambda x: x.month)\n",
    "lend_df['year'] = lend_df['issue_d'].apply(lambda x: x.year)"
   ]
  },
  {
   "cell_type": "code",
   "execution_count": 90,
   "id": "8509f557",
   "metadata": {
    "scrolled": true
   },
   "outputs": [
    {
     "data": {
      "image/png": "[encoded data removed]",
      "text/plain": [
       "<Figure size 432x288 with 1 Axes>"
      ]
     },
     "metadata": {
      "needs_background": "light"
     },
     "output_type": "display_data"
    }
   ],
   "source": [
    "# loan_status Vs Month\n",
    "plotsToCompare('month')"
   ]
  },
  {
   "cell_type": "code",
   "execution_count": 91,
   "id": "4abe9906",
   "metadata": {
    "scrolled": true
   },
   "outputs": [
    {
     "data": {
      "image/png": "[encoded data removed]",
      "text/plain": [
       "<Figure size 432x288 with 1 Axes>"
      ]
     },
     "metadata": {
      "needs_background": "light"
     },
     "output_type": "display_data"
    }
   ],
   "source": [
    "# loan_status Vs year\n",
    "plotsToCompare('year')"
   ]
  },
  {
   "cell_type": "markdown",
   "id": "4e85b7d8",
   "metadata": {},
   "source": [
    "We can see that default rate is increasing year by year but a sudden increase is there for the year 2011. and there are more defaulters whose loan is sanctioned in the month of December\n"
   ]
  },
  {
   "cell_type": "markdown",
   "id": "2b713e62",
   "metadata": {},
   "source": [
    "## Observation and recommendation"
   ]
  },
  {
   "cell_type": "markdown",
   "id": "57d54668",
   "metadata": {},
   "source": [
    "The above analysis with respect to the charged off loans for each variable suggests the following. so that Lending Club can consider these factors before approving any loans.\n",
    "\n",
    "\n",
    "- Applicants having house_ownership as 'RENT'\n",
    "- Applicants who use the loan to clear other debts\n",
    "- Applicants who receive interest at the rate of 13-17%\n",
    "- Applicants who have an income of range 31201 - 58402\n",
    "- Applicants with employement length of 10\n",
    "- When funded amount by investor is between 5000-10000\n",
    "- Loan amount is between 5429 - 10357\n",
    "- Dti is between 12-18\n",
    "- When monthly installments are between 145-274\n",
    "- Term of 36 months\n",
    "- When the loan status is Not verified\n",
    "- When the purpose is 'debt_consolidation'\n",
    "- Grade is 'B'\n",
    "- And a total grade of 'B5' level."
   ]
  },
  {
   "cell_type": "markdown",
   "id": "d7a7b619",
   "metadata": {},
   "source": [
    "## Analysing annual income with other columns for more insights"
   ]
  },
  {
   "cell_type": "code",
   "execution_count": 92,
   "id": "f8caddc2",
   "metadata": {},
   "outputs": [],
   "source": [
    "# Function for univariate analysis\n",
    "def analyseTwoVar(y_var, x_var):\n",
    "    plt.figure(figsize=(10,10))\n",
    "    sns.barplot(data =lend_df,x=x_var, y=y_var, hue ='loan_status')\n",
    "    "
   ]
  },
  {
   "cell_type": "markdown",
   "id": "c478d575",
   "metadata": {},
   "source": [
    "### 1. Annual income vs loan purpose"
   ]
  },
  {
   "cell_type": "code",
   "execution_count": 93,
   "id": "8a3a3017",
   "metadata": {
    "scrolled": false
   },
   "outputs": [
    {
     "data": {
      "image/png": "[encoded data removed]",
      "text/plain": [
       "<Figure size 720x720 with 1 Axes>"
      ]
     },
     "metadata": {
      "needs_background": "light"
     },
     "output_type": "display_data"
    }
   ],
   "source": [
    "# Annual income vs loan purpose\n",
    "analyseTwoVar('annual_inc', 'purpose')\n",
    "plt.xticks(rotation=45)\n",
    "plt.show()"
   ]
  },
  {
   "cell_type": "markdown",
   "id": "fc3aaa3e",
   "metadata": {},
   "source": [
    "Applicants with higher salary mostly applied loans for \"home_improvment\", \"house\", \"renewable_energy\" and \"small_businesses\"\n",
    "\n",
    "and though the number of defaulters are highest whose purpose for loan was debt_consolidation, there annual income is not highest."
   ]
  },
  {
   "cell_type": "markdown",
   "id": "b5d69596",
   "metadata": {},
   "source": [
    "### 2. Annual income vs home ownership"
   ]
  },
  {
   "cell_type": "code",
   "execution_count": 94,
   "id": "8a16ede2",
   "metadata": {
    "scrolled": false
   },
   "outputs": [
    {
     "data": {
      "image/png": "[encoded data removed]",
      "text/plain": [
       "<Figure size 720x720 with 1 Axes>"
      ]
     },
     "metadata": {
      "needs_background": "light"
     },
     "output_type": "display_data"
    }
   ],
   "source": [
    "# Annual income vs home ownership\n",
    "analyseTwoVar('annual_inc', 'home_ownership')"
   ]
  },
  {
   "cell_type": "markdown",
   "id": "82061f35",
   "metadata": {},
   "source": [
    "Annual income of defaulters is highest whose home_ownership is MORTGAGE."
   ]
  },
  {
   "cell_type": "markdown",
   "id": "8dd5fa17",
   "metadata": {},
   "source": [
    "### 3. Annual income vs loan amount"
   ]
  },
  {
   "cell_type": "code",
   "execution_count": 95,
   "id": "b616a584",
   "metadata": {
    "scrolled": false
   },
   "outputs": [
    {
     "data": {
      "image/png": "[encoded data removed]",
      "text/plain": [
       "<Figure size 720x720 with 1 Axes>"
      ]
     },
     "metadata": {
      "needs_background": "light"
     },
     "output_type": "display_data"
    }
   ],
   "source": [
    "# Annual income vs loan amount\n",
    "analyseTwoVar('annual_inc_groups', 'loan_amnt')"
   ]
  },
  {
   "cell_type": "markdown",
   "id": "4643da9f",
   "metadata": {},
   "source": [
    "Here we can see for all annual income groups defaulters are having higher loan amount. As the loan amount is increasing defaulter rate is also increasing."
   ]
  },
  {
   "cell_type": "markdown",
   "id": "3a4503ea",
   "metadata": {},
   "source": [
    "### 4. Annual income vs interest rate"
   ]
  },
  {
   "cell_type": "code",
   "execution_count": 96,
   "id": "66104618",
   "metadata": {
    "scrolled": false
   },
   "outputs": [
    {
     "data": {
      "image/png": "[encoded data removed]",
      "text/plain": [
       "<Figure size 720x720 with 1 Axes>"
      ]
     },
     "metadata": {
      "needs_background": "light"
     },
     "output_type": "display_data"
    }
   ],
   "source": [
    "#  Annual income vs interest rate\n",
    "analyseTwoVar('annual_inc','int_rate_groups')"
   ]
  },
  {
   "cell_type": "markdown",
   "id": "dc8cfb0b",
   "metadata": {},
   "source": [
    "## Analysing loan_amount with other columns for more insights"
   ]
  },
  {
   "cell_type": "markdown",
   "id": "abbedbe9",
   "metadata": {},
   "source": [
    "### 1.Loan Amount vs Interest Rate"
   ]
  },
  {
   "cell_type": "code",
   "execution_count": 97,
   "id": "6dee6ab2",
   "metadata": {
    "scrolled": false
   },
   "outputs": [
    {
     "data": {
      "image/png": "[encoded data removed]",
      "text/plain": [
       "<Figure size 720x720 with 1 Axes>"
      ]
     },
     "metadata": {
      "needs_background": "light"
     },
     "output_type": "display_data"
    }
   ],
   "source": [
    "# Loan Amount vs Interest Rate\n",
    "analyseTwoVar( 'loan_amnt_groups', 'int_rate')"
   ]
  },
  {
   "cell_type": "markdown",
   "id": "2abb82e1",
   "metadata": {},
   "source": [
    "As loan amount is increasing, interest rate is also increasing and defaulter rate as well along with this. \n",
    "\n",
    "The interest rate for charged off loans is pretty high than that of fully paid loans in all the loan_amount groups. This can be a pretty strong driving factor for loan defaulting"
   ]
  },
  {
   "cell_type": "markdown",
   "id": "8160ba1e",
   "metadata": {},
   "source": [
    "### 2. Loan amount vs Loan purpose"
   ]
  },
  {
   "cell_type": "code",
   "execution_count": 98,
   "id": "266a9faf",
   "metadata": {
    "scrolled": false
   },
   "outputs": [
    {
     "data": {
      "image/png": "[encoded data removed]",
      "text/plain": [
       "<Figure size 720x720 with 1 Axes>"
      ]
     },
     "metadata": {
      "needs_background": "light"
     },
     "output_type": "display_data"
    }
   ],
   "source": [
    "# Loan amount vs Loan purpose\n",
    "analyseTwoVar('loan_amnt', 'purpose')\n",
    "plt.xticks(rotation=45)\n",
    "plt.show()"
   ]
  },
  {
   "cell_type": "markdown",
   "id": "830dd0f6",
   "metadata": {},
   "source": [
    "Defaulters have mentioned the purpose for loan is small_business, received the highest loan amount."
   ]
  },
  {
   "cell_type": "markdown",
   "id": "567455e9",
   "metadata": {},
   "source": [
    "### 3. Loan Amount vs House Ownership"
   ]
  },
  {
   "cell_type": "code",
   "execution_count": 99,
   "id": "5c9ec295",
   "metadata": {
    "scrolled": false
   },
   "outputs": [
    {
     "data": {
      "image/png": "[encoded data removed]",
      "text/plain": [
       "<Figure size 720x720 with 1 Axes>"
      ]
     },
     "metadata": {
      "needs_background": "light"
     },
     "output_type": "display_data"
    }
   ],
   "source": [
    "# Loan Amount vs House Ownership\n",
    "analyseTwoVar( 'loan_amnt', 'home_ownership')"
   ]
  },
  {
   "cell_type": "markdown",
   "id": "b9d87b56",
   "metadata": {},
   "source": [
    "We have seen that highest number of defaulters has home_ownership status as RENT but the one whose status is MORTAGAGE has received or avail the highest loan amount."
   ]
  },
  {
   "cell_type": "markdown",
   "id": "a40fb841",
   "metadata": {},
   "source": [
    "### 4. Loan amount vs month issued and year issued"
   ]
  },
  {
   "cell_type": "code",
   "execution_count": 100,
   "id": "d5a990f9",
   "metadata": {},
   "outputs": [
    {
     "data": {
      "text/plain": [
       "<Axes: xlabel='month', ylabel='loan_amnt'>"
      ]
     },
     "execution_count": 100,
     "metadata": {},
     "output_type": "execute_result"
    },
    {
     "data": {
      "image/png": "[encoded data removed]",
      "text/plain": [
       "<Figure size 432x288 with 1 Axes>"
      ]
     },
     "metadata": {
      "needs_background": "light"
     },
     "output_type": "display_data"
    }
   ],
   "source": [
    "# Loan amount vs loan issued month \n",
    "sns.lineplot(data =lend_df,y='loan_amnt', x='month', hue ='loan_status',palette=\"pastel\")"
   ]
  },
  {
   "cell_type": "markdown",
   "id": "3c6582d8",
   "metadata": {},
   "source": [
    "We have seen we were having highest number of defaulters in December month and here we can also see that loan amount issued in month of december is also highest.\n"
   ]
  },
  {
   "cell_type": "code",
   "execution_count": 101,
   "id": "3700eea7",
   "metadata": {},
   "outputs": [
    {
     "data": {
      "text/plain": [
       "<Axes: xlabel='year', ylabel='loan_amnt'>"
      ]
     },
     "execution_count": 101,
     "metadata": {},
     "output_type": "execute_result"
    },
    {
     "data": {
      "image/png": "[encoded data removed]",
      "text/plain": [
       "<Figure size 432x288 with 1 Axes>"
      ]
     },
     "metadata": {
      "needs_background": "light"
     },
     "output_type": "display_data"
    }
   ],
   "source": [
    "# Loan amount vs loan issued year\n",
    "sns.lineplot(data =lend_df,y='loan_amnt', x='year', hue ='loan_status',palette=\"pastel\")"
   ]
  },
  {
   "cell_type": "markdown",
   "id": "83ea1f64",
   "metadata": {},
   "source": [
    "We have seen we were having highest number of defaulters in the year 2011 and here we can also see that loan amount issued in year 2011 is also highest.\n"
   ]
  },
  {
   "cell_type": "markdown",
   "id": "593a6b18",
   "metadata": {},
   "source": [
    "### 5. Loan amount vs Grade"
   ]
  },
  {
   "cell_type": "code",
   "execution_count": 102,
   "id": "c89839ab",
   "metadata": {},
   "outputs": [
    {
     "data": {
      "image/png": "[encoded data removed]",
      "text/plain": [
       "<Figure size 720x720 with 1 Axes>"
      ]
     },
     "metadata": {
      "needs_background": "light"
     },
     "output_type": "display_data"
    }
   ],
   "source": [
    "# Loan amount vs Grade\n",
    "analyseTwoVar('loan_amnt', 'grade')"
   ]
  },
  {
   "cell_type": "markdown",
   "id": "f0dec3b2",
   "metadata": {},
   "source": [
    "Defaulters with grade F & G have received highest loan amount."
   ]
  },
  {
   "cell_type": "markdown",
   "id": "45def50e",
   "metadata": {},
   "source": [
    "### 6. Loan amount vs emp_length"
   ]
  },
  {
   "cell_type": "code",
   "execution_count": 103,
   "id": "eb562823",
   "metadata": {},
   "outputs": [
    {
     "data": {
      "image/png": "[encoded data removed]",
      "text/plain": [
       "<Figure size 720x720 with 1 Axes>"
      ]
     },
     "metadata": {
      "needs_background": "light"
     },
     "output_type": "display_data"
    }
   ],
   "source": [
    "# Loan amount vs emp_length\n",
    "analyseTwoVar('loan_amnt', 'emp_length')"
   ]
  },
  {
   "cell_type": "markdown",
   "id": "522609d8",
   "metadata": {},
   "source": [
    "Employees with longer work experience are receiving higher loan_amnt."
   ]
  },
  {
   "cell_type": "markdown",
   "id": "1858f074",
   "metadata": {},
   "source": [
    "### 7. Loan amount vs verification_status"
   ]
  },
  {
   "cell_type": "code",
   "execution_count": 104,
   "id": "17e6c11a",
   "metadata": {
    "scrolled": false
   },
   "outputs": [
    {
     "data": {
      "image/png": "[encoded data removed]",
      "text/plain": [
       "<Figure size 720x720 with 1 Axes>"
      ]
     },
     "metadata": {
      "needs_background": "light"
     },
     "output_type": "display_data"
    }
   ],
   "source": [
    "# Loan amount vs verification_status\n",
    "analyseTwoVar('loan_amnt', 'verification_status')"
   ]
  },
  {
   "cell_type": "markdown",
   "id": "4cf8b81f",
   "metadata": {},
   "source": [
    "verified loan applications tend to have higher loan amount, which might indicate that the firms are first verifying the loans with higher values."
   ]
  },
  {
   "cell_type": "markdown",
   "id": "973a3a2d",
   "metadata": {},
   "source": [
    "### 8. Loan amount vs term"
   ]
  },
  {
   "cell_type": "code",
   "execution_count": 105,
   "id": "98034782",
   "metadata": {
    "scrolled": false
   },
   "outputs": [
    {
     "data": {
      "image/png": "[encoded data removed]",
      "text/plain": [
       "<Figure size 720x720 with 1 Axes>"
      ]
     },
     "metadata": {
      "needs_background": "light"
     },
     "output_type": "display_data"
    }
   ],
   "source": [
    "# Loan amount vs term\n",
    "analyseTwoVar('loan_amnt', 'term')"
   ]
  },
  {
   "cell_type": "markdown",
   "id": "272d0530",
   "metadata": {},
   "source": [
    "Applicants who has fully paid the loan_amount and defaulted have no significant difference in loan_amounts.\n",
    "Applicants applying for long term has applied for more loan."
   ]
  },
  {
   "cell_type": "markdown",
   "id": "78a2059e",
   "metadata": {},
   "source": [
    "## Analysing grade with interest rate"
   ]
  },
  {
   "cell_type": "code",
   "execution_count": 106,
   "id": "28e89e16",
   "metadata": {},
   "outputs": [
    {
     "data": {
      "image/png": "[encoded data removed]",
      "text/plain": [
       "<Figure size 720x720 with 1 Axes>"
      ]
     },
     "metadata": {
      "needs_background": "light"
     },
     "output_type": "display_data"
    }
   ],
   "source": [
    "# Analysing grade with interest rate\n",
    "analyseTwoVar('grade', 'int_rate')"
   ]
  },
  {
   "cell_type": "markdown",
   "id": "a8a3ac03",
   "metadata": {},
   "source": [
    "when we go from grade A to F, we can see there is increase in the number of interest rate."
   ]
  },
  {
   "cell_type": "markdown",
   "id": "9325c272",
   "metadata": {},
   "source": [
    "## Observations and recommendation"
   ]
  },
  {
   "cell_type": "markdown",
   "id": "107df54e",
   "metadata": {},
   "source": [
    "The above analysis with respect to the charged off loans suggests the following. so that Lending Club can consider these factors before approving any loans.\n",
    "\n",
    "- The above analysis with respect to the charged off loans. There is a more probability of defaulting when :\n",
    "- Applicants taking loan for 'home improvement' and have income of 60k -70k\n",
    "- Applicants whose home ownership is 'MORTGAGE and have income of 60-70k\n",
    "- Applicants who receive interest at the rate of 21-24% and have an income of 70k-80k\n",
    "- Applicants who have taken a loan in the range 30k - 35k and are charged interest rate of 15-17.5 %\n",
    "- Applicants who have taken a loan for small business and the loan amount is greater than 14k\n",
    "- Applicants whose home ownership is 'MORTGAGE and have loan of 14-16k\n",
    "- When grade is F and loan amount is between 15k-20k\n",
    "- When employment length is 10yrs and loan amount is 12k-14k\n",
    "- When the loan is verified and loan amount is above 16k\n",
    "- For grade G and interest rate above 20%"
   ]
  },
  {
   "cell_type": "code",
   "execution_count": null,
   "id": "2643bd36",
   "metadata": {},
   "outputs": [],
   "source": []
  }
 ],
 "metadata": {
  "kernelspec": {
   "display_name": "Python 3 (ipykernel)",
   "language": "python",
   "name": "python3"
  },
  "language_info": {
   "codemirror_mode": {
    "name": "ipython",
    "version": 3
   },
   "file_extension": ".py",
   "mimetype": "text/x-python",
   "name": "python",
   "nbconvert_exporter": "python",
   "pygments_lexer": "ipython3",
   "version": "3.10.2"
  }
 },
 "nbformat": 4,
 "nbformat_minor": 5
}
